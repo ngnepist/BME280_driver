{
  "nbformat": 4,
  "nbformat_minor": 0,
  "metadata": {
    "accelerator": "GPU",
    "colab": {
      "name": "seabedClassification_starterCode.ipynb",
      "provenance": [],
      "collapsed_sections": [],
      "include_colab_link": true
    },
    "kernelspec": {
      "display_name": "Python 3 (ipykernel)",
      "language": "python",
      "name": "python3"
    },
    "language_info": {
      "codemirror_mode": {
        "name": "ipython",
        "version": 3
      },
      "file_extension": ".py",
      "mimetype": "text/x-python",
      "name": "python",
      "nbconvert_exporter": "python",
      "pygments_lexer": "ipython3",
      "version": "3.9.5"
    }
  },
  "cells": [
    {
      "cell_type": "markdown",
      "metadata": {
        "id": "view-in-github",
        "colab_type": "text"
      },
      "source": [
        "<a href=\"https://colab.research.google.com/github/ngnepist/BME280_driver/blob/master/seabedClassification_starterCode.ipynb\" target=\"_parent\"><img src=\"https://colab.research.google.com/assets/colab-badge.svg\" alt=\"Open In Colab\"/></a>"
      ]
    },
    {
      "cell_type": "markdown",
      "metadata": {
        "id": "SZiULAOAv6AZ"
      },
      "source": [
        "# Machine Learning Programming Exercise 6: <ins>Supervised classification</ins>\n",
        "\n",
        "\n",
        "## 1. Objectifs\n",
        "\n",
        "\n",
        "Nous allons dans ce TP classer automatiquement des patchs extraits d'images sonar (cf. figure ci-dessous) en types de fond marin (roches, sables, vases, rides de sable verticales et à 45°, [Posidonie](https://fr.wikipedia.org/wiki/Posidonia_oceanica)).\n",
        "\n",
        "Quelques exemples de patchs d'image sonar de fond marin:\n",
        "<img src=\"screenshot001.png\" />\n",
        "\n",
        "\n",
        "L'objectif est d'écrire un ou plusieurs  scripts permettant de mettre en \\oe uvre un système basé sur différentes approches supervisées de machine learning. Ces scripts devront ainsi suivre la chaîne générale décrite en cours (à l'exception de la phase de captation; cf. figure ci-dessous ) :\n",
        "* prétraitements\n",
        "* extraction des descripteurs\n",
        "* apprentissage d'un modèle de classement\n",
        "* classement des pixels\n",
        "* évaluation du classifieur appris\n",
        "* comparaison et analyse des performances de différents classifieurs\n",
        "\n",
        "<img src=\"screenshot002.png\" />\n",
        "\n",
        "Le TP est globalement organisé de la manière suivante\n",
        "**Données**\n",
        "\n",
        "Il s'agira d'apprendre les classifieurs à partir de descripteurs extraits grâce à un algorithme performant d'analyse de textures appelé [scattering operator](https://www.di.ens.fr/data/scattering) (le fonctionnement exact n'est pas au programme mais il s'apparente à une banque de filtres mise en cascade; à chaque niveau un ou plusieurs descripteurs sont calculés). \n",
        " \n",
        "**Prétraitements**\n",
        "\n",
        "Aucun prétraitement ne sera réalisé. \n",
        "\n",
        "**Ensembles de données**\n",
        "\n",
        "Les deux ensembles de données (apprentissage et test) seront composés de 2/3 et 1/3 de la base totale d'images. \n",
        "\n",
        "**Algorithmes** \n",
        "\n",
        "Concernant les algorithmes supervisés de machine learning, l'objectif est de découvrir le package python [scikit-learn](http://scikit-learn.org/stable/user_guide.html) qui vous permettra d'utiliser les algorithmes de [régression logistique](https://scikit-learn.org/stable/modules/linear_model.html#logistic-regression), [réseaux de neurones](https://scikit-learn.org/stable/modules/neural_networks_supervised.html), [random forests](https://scikit-learn.org/stable/modules/ensemble.html#forest) et [svm](https://scikit-learn.org/stable/modules/svm.html#svm-classification).\n",
        "\n",
        "\n",
        " Pour commencer avec cette séance, vous aurez besoin de **télécharger** le _starter code_  disponible sur le lien Moodle du cours.\n",
        "\n",
        "**Travail demandé**\n",
        "\n",
        "<span style=\"color:red\">**Dans cet exercice, il vous est demandé de fournir un seul rapport regroupant les réponses aux questions, vos analyses et vos codes. Ce rapport pourra prendre la forme d'un pdf ou d'un jupyter notebook. Il est de plus conseillé de faire tourner les codes sur google colab si votre machine manque de puissance (dans ce cas un jupyter notebook est nécessaire). Il est également conseillé de répondre aux questions par des phrases pour obtenir la totalité des points**</span>\n",
        "\n",
        "\n",
        "## Fichiers inclus dans le starter code pour cette séance\n",
        "* **usefulCmdsAndFcns.py** - quelques commandes et functions pour faciliter l'import des patchs, leur affichage et l'évaluation des performances des classifieurs\n",
        "\n",
        "* **dataSet** - répertoire avec les images et les labels correspondants\n",
        "* **dataSet\\imdb_200x200_SmallSonarTex_db_6classes_scatValOnly_kymatio_j1_l4.mat** - fichier matlab contenant les descripteurs extraits des images par le scattering operator\n",
        "\n"
      ]
    },
    {
      "cell_type": "markdown",
      "metadata": {
        "id": "8-Y6TWZBv6Ab"
      },
      "source": [
        "# 2. Découverte des données"
      ]
    },
    {
      "cell_type": "markdown",
      "metadata": {
        "id": "wsF0iPYhv6Ae"
      },
      "source": [
        "## 2.1 Imports des packages python\n",
        "\n",
        "**<ins>Question 1:</ins>**\n",
        "\n",
        "Écrire des lignes de code permettant d'importer les packages python utiles.\n"
      ]
    },
    {
      "cell_type": "markdown",
      "metadata": {
        "id": "H9vExjoNv6Af"
      },
      "source": [
        "_Your commented code below_"
      ]
    },
    {
      "cell_type": "code",
      "metadata": {
        "colab": {
          "resources": {
            "http://localhost:8080/nbextensions/google.colab/files.js": {
              "data": "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",
              "ok": true,
              "headers": [
                [
                  "content-type",
                  "application/javascript"
                ]
              ],
              "status": 200,
              "status_text": "OK"
            }
          },
          "base_uri": "https://localhost:8080/",
          "height": 39
        },
        "id": "ri10QhWWbiWa",
        "outputId": "307c6ba4-6f95-42cf-db0b-3697d63b37a4"
      },
      "source": [
        "from google.colab import files\n",
        "def getLocalFiles():\n",
        "    _files = files.upload()\n",
        "    if len(_files) >0:\n",
        "       for k,v in _files.items():\n",
        "         open(k,'wb').write(v)\n",
        "getLocalFiles()"
      ],
      "execution_count": 1,
      "outputs": [
        {
          "output_type": "display_data",
          "data": {
            "text/html": [
              "\n",
              "     <input type=\"file\" id=\"files-74d3688b-8f77-4f37-878c-e80f6bf0d6aa\" name=\"files[]\" multiple disabled\n",
              "        style=\"border:none\" />\n",
              "     <output id=\"result-74d3688b-8f77-4f37-878c-e80f6bf0d6aa\">\n",
              "      Upload widget is only available when the cell has been executed in the\n",
              "      current browser session. Please rerun this cell to enable.\n",
              "      </output>\n",
              "      <script src=\"/nbextensions/google.colab/files.js\"></script> "
            ],
            "text/plain": [
              "<IPython.core.display.HTML object>"
            ]
          },
          "metadata": {}
        }
      ]
    },
    {
      "cell_type": "markdown",
      "metadata": {
        "id": "hvwX211yZFuQ"
      },
      "source": [
        "## 2.2 Chargement et examen des données\n",
        "\n",
        "**<ins>Question 2:</ins>** Écrire des lignes de code permettant:\n",
        "* de charger les données comprises dans le fichier **labels.csv**,\n",
        "* d'afficher les images avec la fonction **plot\\_batch()** du fichier **usefulCmdsAndFcns.py**,\n",
        "* de mettre en matrice les descripteurs extraits par le scattering operator à partir de l'ensemble de la base d'images\n",
        "\n"
      ]
    },
    {
      "cell_type": "markdown",
      "metadata": {
        "id": "CNkYLHzqZFuR"
      },
      "source": [
        "_Your commented code below_"
      ]
    },
    {
      "cell_type": "code",
      "metadata": {
        "colab": {
          "base_uri": "https://localhost:8080/",
          "height": 390
        },
        "id": "xGqVIrCxv6At",
        "outputId": "d67fcb78-c4b7-4fcd-a2b2-a00dd8f34bde"
      },
      "source": [
        "from usefulCmdsAndFcns import *\n",
        "%matplotlib inline\n",
        "\n",
        "feature_type = 'scat'  # 'raw' | 'scat'\n",
        "feature_values, label_names, dataset_df = importData(feature_type)\n",
        "\n",
        "images_df = load_batch(dataset_df)\n",
        "\n",
        "plot_batch(images_df, 2, 2, 200, 200)\n"
      ],
      "execution_count": 2,
      "outputs": [
        {
          "output_type": "stream",
          "name": "stdout",
          "text": [
            "(360, 217)\n"
          ]
        },
        {
          "output_type": "display_data",
          "data": {
            "image/png": "[encoded data removed]",
            "text/plain": [
              "<Figure size 432x432 with 4 Axes>"
            ]
          },
          "metadata": {
            "needs_background": "light"
          }
        }
      ]
    },
    {
      "cell_type": "markdown",
      "metadata": {
        "id": "jbI5IPb4v6Az"
      },
      "source": [
        "**<ins>Question 3: </ins>** \n",
        "* Quel est le nombre de données/individus/images, le nombre de descripteurs?\n",
        "* Quelle est la dynamique des données?"
      ]
    },
    {
      "cell_type": "markdown",
      "metadata": {
        "id": "fZ2JIo5Jv6A0"
      },
      "source": [
        "**Nous constatons qu'il y'a 360 image dans l'emsemble de données. le traitement par l'analyseur de texture \"scattering operator\" nous renvoie 217 descripteurs. Les données sont dynamiques car changes**\n",
        "\n",
        "**Pour l'argument 'raw' on a 40 000 descripteurs**  "
      ]
    },
    {
      "cell_type": "markdown",
      "metadata": {
        "id": "ZgBGeBgMZFuU"
      },
      "source": [
        "## 3. Traitements"
      ]
    },
    {
      "cell_type": "markdown",
      "metadata": {
        "id": "0tu9u9Oqv6A8"
      },
      "source": [
        "## 3.1 Normalisation des descripteurs \n",
        "\n",
        "**<ins>Question 4:</ins>**\n",
        "\n",
        "Écrire des lignes de code permettant de [normaliser](https://scikit-learn.org/stable/modules/preprocessing.html) les données si besoin.\n"
      ]
    },
    {
      "cell_type": "markdown",
      "metadata": {
        "id": "g1p9-v4cv6A9"
      },
      "source": [
        "_Your commented code below_"
      ]
    },
    {
      "cell_type": "code",
      "metadata": {
        "id": "iI3QVwvdZFuV"
      },
      "source": [
        "#Normalisation mean = 0 std = 1 : \n",
        "scaler = preprocessing.StandardScaler().fit(feature_values)\n",
        "feature_values_scaled = scaler.transform(feature_values)\n",
        "#print(feature_values_scaled.mean(axis=0))\n"
      ],
      "execution_count": 3,
      "outputs": []
    },
    {
      "cell_type": "markdown",
      "metadata": {
        "id": "cxRqMrUWZFuW"
      },
      "source": [
        "**<ins>Question 5</ins>**: Pourquoi doit-on faire cette normalisation?"
      ]
    },
    {
      "cell_type": "markdown",
      "metadata": {
        "id": "e2my5M2nZFuW"
      },
      "source": [
        "**La normalisation permet une mise à l'échelle, de nos donnés. Ceci diminue le risque de biais dans le calcul des poids.**\n",
        "\n"
      ]
    },
    {
      "cell_type": "markdown",
      "metadata": {
        "id": "lCDfc3VFZFuW"
      },
      "source": [
        "## 3.2 Séparation des données en ensembles \n",
        "\n",
        "**<ins>Question 6:</ins>**\n",
        "\n",
        "Écrire des lignes de code permettant de [créer deux ensembles](https://scikit-learn.org/stable/modules/generated/sklearn.model_selection.train_test_split.html#sklearn.model_selection.train_test_split): un pour l'apprentissage et un pour le test en proportions 2/3-1/3.\n"
      ]
    },
    {
      "cell_type": "markdown",
      "metadata": {
        "id": "x5srKfJ4ZFuW"
      },
      "source": [
        "_Your commented code below_"
      ]
    },
    {
      "cell_type": "code",
      "metadata": {
        "id": "xjAfwumev6A-"
      },
      "source": [
        "X_train, X_test, y_train, y_test = train_test_split(feature_values_scaled, label_names, test_size=0.33, random_state=42)"
      ],
      "execution_count": 4,
      "outputs": []
    },
    {
      "cell_type": "markdown",
      "metadata": {
        "id": "iAVtQ44JZFuX"
      },
      "source": [
        "**<ins>Question 7:</ins>** Pourquoi doit-on faire cela?"
      ]
    },
    {
      "cell_type": "markdown",
      "metadata": {
        "id": "G3xLEkDPZFuX"
      },
      "source": [
        "**Nous devons avoir un ensemble d'apprentissage, qui va nous permettre de trouver les parametres de prédiction, et un ensemble de test qui va nous permettre d'évaluer notre fonction de prédiction.**\n"
      ]
    },
    {
      "cell_type": "markdown",
      "metadata": {
        "id": "jCk7ykINv6A1"
      },
      "source": [
        "## 3.3 Gestion des labels\n",
        "\n",
        "**<ins>Question 8:</ins>** Écrire des lignes de code permettant de disposer des labels pour chaque ensemble de données dans différents [codages](https://scikit-learn.org/stable/modules/preprocessing_targets.html) (noms, indices, [one-hot-encoding](https://scikit-learn.org/stable/modules/preprocessing.html#encoding-categorical-features), etc.) \n"
      ]
    },
    {
      "cell_type": "markdown",
      "metadata": {
        "id": "-1GzYnP5v6A3"
      },
      "source": [
        "_Your commented code below_"
      ]
    },
    {
      "cell_type": "code",
      "metadata": {
        "id": "CW41N-eHv6A3"
      },
      "source": [
        "# Récupération des labels\n",
        "label_names_train = y_train\n",
        "label_names_unique_train = label_names_train.unique()\n",
        "\n",
        "label_names_test = y_test\n",
        "label_names_unique_test = label_names_test.unique()\n",
        "\n",
        "\n",
        "#  transformation des labels selon différents codages\n",
        "\n",
        "# indices\n",
        "le_train = preprocessing.LabelEncoder()\n",
        "le_train.fit(label_names_unique_train)\n",
        "labelIndices_unique_train = le_train.transform(label_names_unique_train)\n",
        "labelIndices_train = le_train.transform(label_names_train)\n",
        "\n",
        "le_test = preprocessing.LabelEncoder()\n",
        "le_test.fit(label_names_unique_test)\n",
        "labelIndices_unique_test = le_test.transform(label_names_unique_test)\n",
        "labelIndices_test = le_test.transform(label_names_test)\n",
        "\n",
        "# enc indices to  one-hot-encoding\n",
        "encInd2Ohe_train = preprocessing.OneHotEncoder(sparse=False)\n",
        "encInd2Ohe_train.fit(labelIndices_unique_train.reshape(-1, 1))\n",
        "labelOhe_train = encInd2Ohe_train.transform(labelIndices_train.reshape(-1, 1))\n",
        "\n",
        "encInd2Ohe_test = preprocessing.OneHotEncoder(sparse=False)\n",
        "encInd2Ohe_test.fit(labelIndices_unique_test.reshape(-1, 1))\n",
        "labelOhe_test = encInd2Ohe_test.transform(labelIndices_test.reshape(-1, 1))\n",
        "\n",
        "# enc labelNames to  one-hot-encoding\n",
        "encName2Ohe_train = preprocessing.OneHotEncoder(sparse=False)\n",
        "encName2Ohe_train.fit(label_names_unique_train.reshape(-1, 1))\n",
        "labelOhe2_train = encName2Ohe_train.transform(label_names_train.reset_index(drop=True).values.reshape(-1, 1))\n",
        "\n",
        "encName2Ohe_test = preprocessing.OneHotEncoder(sparse=False)\n",
        "encName2Ohe_test.fit(label_names_unique_test.reshape(-1, 1))\n",
        "labelOhe2_test = encName2Ohe_test.transform(label_names_test.reset_index(drop=True).values.reshape(-1, 1))\n",
        "\n",
        "# one-hot-encoding avec pandas\n",
        "label_ohe_train = pd.get_dummies(label_names_train.reset_index(drop=True)).values\n",
        "\n",
        "label_ohe_test = pd.get_dummies(label_names_test.reset_index(drop=True)).values"
      ],
      "execution_count": 5,
      "outputs": []
    },
    {
      "cell_type": "markdown",
      "metadata": {
        "id": "pcDIy1Nmv6BD"
      },
      "source": [
        "**<ins>Question 9:</ins>** Etudiez la répartition du nombre de données (d'images) en fonction du <ins>type de fonds marins pour chaque ensemble de données</ins>. Est-ce important? Pourquoi?"
      ]
    },
    {
      "cell_type": "markdown",
      "metadata": {
        "id": "RzMlssgYZFuZ"
      },
      "source": [
        "_Your commented code below_\n"
      ]
    },
    {
      "cell_type": "code",
      "metadata": {
        "colab": {
          "base_uri": "https://localhost:8080/"
        },
        "id": "waeeVzw0ZFuZ",
        "outputId": "bfd0a7d1-ce5e-43e7-e37e-316f0f3fa23b"
      },
      "source": [
        "from collections import Counter\n",
        "cnt_train = Counter(label_names_train.to_numpy())\n",
        "print(\"Train repartitions is : \\n\", cnt_train)\n",
        "cnt_test = Counter(label_names_test.to_numpy())\n",
        "print(\"Test repartitions is : \\n\", cnt_test)"
      ],
      "execution_count": 6,
      "outputs": [
        {
          "output_type": "stream",
          "name": "stdout",
          "text": [
            "Train repartitions is : \n",
            " Counter({'Silt': 46, 'Rock': 43, 'Posidonia': 39, 'Ripple vertical': 39, 'Sand': 38, 'Ripple 45': 36})\n",
            "Test repartitions is : \n",
            " Counter({'Ripple 45': 24, 'Sand': 22, 'Posidonia': 21, 'Ripple vertical': 21, 'Rock': 17, 'Silt': 14})\n"
          ]
        }
      ]
    },
    {
      "cell_type": "markdown",
      "metadata": {
        "id": "8nCFuRy2v6BE"
      },
      "source": [
        "**On constate que les deux ensembles contienent les différents type d'images et à des proportions sensiblement égales. Ceci est importants car il pemert de faire en sorte que tout les types d'image contribue à la determination de la fonction de prédiction.**\n",
        "\n"
      ]
    },
    {
      "cell_type": "markdown",
      "metadata": {
        "id": "b6nioyvrv6BE"
      },
      "source": [
        "## 4. Approche supervisée à partir des descripteurs du scattering operator"
      ]
    },
    {
      "cell_type": "markdown",
      "metadata": {
        "id": "kgu2WWSuZFuZ"
      },
      "source": [
        "## 4.1 Apprentissage des classifieurs\n"
      ]
    },
    {
      "cell_type": "markdown",
      "metadata": {
        "id": "_2EaH8DiZFua"
      },
      "source": [
        "**<ins>Question 10:</ins>** Faire la liste expliquée des hyper-paramètres (paramètre uniquement lié à l'algorithme d'apprentissage) les plus importants des algorithmes: régression logistique, réseaux de neurones, svm et random forest."
      ]
    },
    {
      "cell_type": "markdown",
      "metadata": {
        "id": "aU5sSv3KZFua"
      },
      "source": [
        "* Regression logistique : Déterminer w et w 0 maximisant : p (C 1 |x) = σ (w.T x + w 0)\n",
        "\n",
        "* Réseaux de neurones : l’ensemble des hyper-paramètres est : θ = {W (1) , b (1) , . . . , W (L+1) , b (L+1) }. avec W(i) et b(i) le poids et le biais qui relient deux couches.\n",
        "\n",
        "* SVM : Hyper-paramètre : C > 0 pour une séparation linéaire\n",
        "I plus C est petit, plus la capacité diminue (peu de pénalisation des erreurs)\n",
        "I plus C est grand, plus le risque d’overfitting est grand. \n",
        "\n",
        "> Hyper-paramètre supplémentaire, le noyau φ et ses paramètres (moyenne et variance si gaussienne) si séparation non linéaire.\n",
        "\n",
        "* Random forest : \n",
        "\n",
        "\n",
        "\n",
        "\n",
        "\n",
        "\n",
        "\n",
        "\n"
      ]
    },
    {
      "cell_type": "markdown",
      "metadata": {
        "id": "01PQN1yev6Bl"
      },
      "source": [
        "**<ins>Question 11</ins>**: Réalisez l'apprentissage successif des modèles: régression logistique, réseaux de neurones, svm et random forest en utilisant les fonctions du package scikit-learn. Les valeurs des hyper-paramètres seront choisis comme les valeurs par défaut de scikit-learn."
      ]
    },
    {
      "cell_type": "markdown",
      "metadata": {
        "id": "36UZMfIKZFub"
      },
      "source": [
        "_Your commented code below_\n"
      ]
    },
    {
      "cell_type": "code",
      "metadata": {
        "id": "iGmRTAHWZFub",
        "colab": {
          "base_uri": "https://localhost:8080/"
        },
        "outputId": "6be25bed-d1b7-443c-dc34-7c54fb394cc4"
      },
      "source": [
        "from sklearn.linear_model import LogisticRegression\n",
        "clf_Regression = LogisticRegression()\n",
        "# clf_Regression.fit(X_train, label_names_train)\n",
        "# clf_Regression.score(X_test, label_names_test)\n",
        "prediction_Regression = train_predict_model(clf_Regression, X_train, labelIndices_train, X_test, labelIndices_test )\n",
        "prediction_Regression"
      ],
      "execution_count": 7,
      "outputs": [
        {
          "output_type": "execute_result",
          "data": {
            "text/plain": [
              "array([4, 0, 5, 2, 0, 5, 0, 0, 5, 3, 3, 2, 4, 2, 1, 3, 4, 2, 3, 2, 3, 4,\n",
              "       2, 0, 5, 4, 3, 2, 0, 1, 5, 0, 2, 3, 1, 0, 0, 2, 1, 1, 4, 0, 2, 1,\n",
              "       3, 4, 0, 0, 0, 2, 5, 4, 4, 1, 2, 5, 0, 1, 1, 5, 0, 0, 4, 1, 1, 1,\n",
              "       2, 4, 2, 1, 4, 4, 5, 2, 4, 1, 4, 2, 0, 1, 3, 0, 4, 3, 2, 2, 3, 3,\n",
              "       1, 5, 1, 1, 5, 1, 4, 4, 0, 3, 0, 1, 2, 4, 4, 3, 3, 4, 2, 5, 3, 5,\n",
              "       3, 4, 0, 5, 5, 3, 0, 2, 1])"
            ]
          },
          "metadata": {},
          "execution_count": 7
        }
      ]
    },
    {
      "cell_type": "code",
      "metadata": {
        "id": "DzE8ycw7v6BI"
      },
      "source": [
        "from sklearn.neural_network import MLPClassifier\n",
        "clf_NN = MLPClassifier()\n",
        "# clf_NN.fit(X_train, label_ohe_train)\n",
        "# clf_NN.score(X_test, label_ohe_test)\n",
        "prediction_NN = train_predict_model(clf_NN, X_train, labelIndices_train, X_test, labelIndices_test ) #X_train, label_ohe_train, X_test, label_ohe_test )\n"
      ],
      "execution_count": 8,
      "outputs": []
    },
    {
      "cell_type": "code",
      "metadata": {
        "id": "FZAAD5fjZFud"
      },
      "source": [
        "from sklearn import svm\n",
        "clf_SVC = svm.SVC()\n",
        "# clf_SVC.fit(X_train, label_names_train)\n",
        "# clf_SVC.score(X_test, label_names_test)\n",
        "prediction_SVM = train_predict_model(clf_SVC, X_train, labelIndices_train, X_test, labelIndices_test )# X_train, label_names_train, X_test, label_names_test )\n"
      ],
      "execution_count": 9,
      "outputs": []
    },
    {
      "cell_type": "code",
      "metadata": {
        "id": "RfjUDoAvZFud"
      },
      "source": [
        "from sklearn.ensemble import RandomForestClassifier\n",
        "clf_RandomForest = RandomForestClassifier()\n",
        "# clf_RandomForest = clf.fit(X_train, label_names_train)\n",
        "# clf_RandomForest.score(X_test, label_names_test)\n",
        "prediction_RandomForest = train_predict_model(clf_RandomForest,X_train, labelIndices_train, X_test, labelIndices_test )# X_train, label_names_train, X_test, label_names_test )\n"
      ],
      "execution_count": 10,
      "outputs": []
    },
    {
      "cell_type": "markdown",
      "metadata": {
        "id": "p1o9LV6gZFud"
      },
      "source": [
        "**Le score des classificateurs sont pratiquement les memes. sauf celui du random forest qui est légèrement plus bas.**"
      ]
    },
    {
      "cell_type": "markdown",
      "metadata": {
        "id": "6OLoAEchZFue"
      },
      "source": [
        "## 4.2 Evaluation des classifieurs"
      ]
    },
    {
      "cell_type": "markdown",
      "metadata": {
        "id": "FPJ1qExlv6BQ"
      },
      "source": [
        "**<ins>Question 12</ins>:** A l'aide des fonctions fournies, évaluer les modèles appris en calculant et en affichant la matrice de confusion, puis les métriques extraites. Il est à noter que le jeu de données est petit et vous compléterez donc avec une évaluation par [cross-validation](https://scikit-learn.org/stable/modules/cross_validation.html\\#computing-cross-validated-metrics) de la moyenne et de l'écart-type de la métrique accuracy. Conclure sur les performances par classe et globales des différents classifieurs.\n"
      ]
    },
    {
      "cell_type": "markdown",
      "metadata": {
        "id": "7w4tk5JUv6BS"
      },
      "source": [
        "_Your commented code below_"
      ]
    },
    {
      "cell_type": "code",
      "metadata": {
        "id": "dp4dnNeVv6BS",
        "colab": {
          "base_uri": "https://localhost:8080/"
        },
        "outputId": "c62fc1a1-0a56-433b-ebff-4939626c650b"
      },
      "source": [
        "from sklearn.model_selection import cross_val_score\n",
        "print(\"matrice de confusion de la Regresion Logistique : \")\n",
        "display_confusion_matrix(labelIndices_test, prediction_Regression)\n",
        "get_metrics(labelIndices_test, prediction_Regression)\n",
        "scores = cross_val_score(clf_Regression,X_test, labelIndices_test)\n",
        "print(\"%0.2f accuracy with a standard deviation of %0.2f\" % (scores.mean(), scores.std()))\n",
        "\n",
        "print(\"\\nmatrice de confusion du réseau de neurone : \")\n",
        "display_confusion_matrix(labelIndices_test, prediction_NN)\n",
        "get_metrics(labelIndices_test, prediction_NN)\n",
        "scores = cross_val_score(clf_NN,X_test, labelIndices_test)\n",
        "print(\"%0.2f accuracy with a standard deviation of %0.2f\" % (scores.mean(), scores.std()))\n",
        "\n",
        "print(\"\\nmatrice de confusion de la SVM : \")\n",
        "display_confusion_matrix(labelIndices_test, prediction_SVM)\n",
        "get_metrics(labelIndices_test, prediction_SVM)\n",
        "scores = cross_val_score(clf_SVC,X_test, labelIndices_test)\n",
        "print(\"%0.2f accuracy with a standard deviation of %0.2f\" % (scores.mean(), scores.std()))\n",
        "\n",
        "print(\"\\nmatrice de confusion de la Random Forest : \")\n",
        "display_confusion_matrix(labelIndices_test, prediction_RandomForest)\n",
        "get_metrics(labelIndices_test, prediction_RandomForest)\n",
        "scores = cross_val_score(clf_RandomForest,X_test, labelIndices_test)\n",
        "print(\"%0.2f accuracy with a standard deviation of %0.2f\" % (scores.mean(), scores.std()))"
      ],
      "execution_count": 11,
      "outputs": [
        {
          "output_type": "stream",
          "name": "stdout",
          "text": [
            "matrice de confusion de la Regresion Logistique : \n",
            "          Predicted:    \n",
            "                   1   0\n",
            "Actual: 1         21   1\n",
            "        0          0  21\n",
            "Accuracy: 0.9748\n",
            "Precision: 0.9762\n",
            "Recall: 0.9748\n",
            "F1 Score: 0.9743\n",
            "0.96 accuracy with a standard deviation of 0.05\n",
            "\n",
            "matrice de confusion du réseau de neurone : \n",
            "          Predicted:    \n",
            "                   1   0\n",
            "Actual: 1         21   0\n",
            "        0          0  21\n",
            "Accuracy: 0.9748\n",
            "Precision: 0.9771\n",
            "Recall: 0.9748\n",
            "F1 Score: 0.9746\n",
            "0.94 accuracy with a standard deviation of 0.04\n",
            "\n",
            "matrice de confusion de la SVM : \n",
            "          Predicted:    \n",
            "                   1   0\n",
            "Actual: 1         21   0\n",
            "        0          0  21\n",
            "Accuracy: 0.9748\n",
            "Precision: 0.9792\n",
            "Recall: 0.9748\n",
            "F1 Score: 0.9752\n",
            "0.87 accuracy with a standard deviation of 0.05\n",
            "\n",
            "matrice de confusion de la Random Forest : \n",
            "          Predicted:    \n",
            "                   1   0\n",
            "Actual: 1         21   1\n",
            "        0          0  21\n",
            "Accuracy: 0.9412\n",
            "Precision: 0.9433\n",
            "Recall: 0.9412\n",
            "F1 Score: 0.9409\n",
            "0.89 accuracy with a standard deviation of 0.07\n"
          ]
        }
      ]
    },
    {
      "cell_type": "markdown",
      "metadata": {
        "id": "gNAFZTFvv6BS"
      },
      "source": [
        "**On constate que le nombre de faux-vrai et de faux-faux est relativement faible par rapport au nombre de vrai-vrai et de vrai-faux.\n",
        "On remarque que les indicateurs du réseau de neurone son plus satisfaisant que les autres. notament, on a zero faux vrai et zero faux faux.\n",
        "Au contraire, le random forest a les plus faibles indicateurs.**\n",
        "\n",
        "**En ce qui concerne la cross validation, le reseau deneurone affiche un écart type le plus faiblle, ce qui laisserait penser que c'est le meilleur model de prédictions**\n"
      ]
    },
    {
      "cell_type": "markdown",
      "metadata": {
        "id": "aUIQk8ylZFuf"
      },
      "source": [
        "## 4.2 Optimisation de l'apprentissage (choix des hyper-paramètres)\n",
        "\n",
        "Le jeu de données étant très petit, la valeur des hyper-paramètres doit être fixée de manière optimale en évaluant les modèles par cross validation sur l'ensemble de training."
      ]
    },
    {
      "cell_type": "markdown",
      "metadata": {
        "id": "A-iiO1NPZFuf"
      },
      "source": [
        "**<ins>Question 13</ins>:** Lisez le [tutoriel suivant](https://scikit-learn.org/stable/auto_examples/model_selection/plot_grid_search_digits.html) en faisant particulièrement attention à la façon dont est gérée la détermination des hyperparamètres et l'évaluation des performances. Reproduisez cette méthodologie en testant différents nombres de plis (fold):\n",
        "* pour la **<ins>Régression logistique:</ins>**:\n",
        "    * C: 0.001, 0.01,0.1,1,10\n",
        "    * penalty = 'l1', 'l2', 'elasticnet', 'none'\n",
        "    \n",
        "* pour le **<ins>réseau de neurones</ins>:**\n",
        "    * hidden_layer_sizes: une couche de 100 neurones, 2 couches de 100 neurones, 3 couches de 100 neurones\n",
        "    * activation: 'logistic', 'tanh', 'relu'\n",
        "    * alpha: 0.0001, 0.001, 0.01, 0.1, 1, 10\n",
        "\n",
        "* pour le **<ins>Random Forest</ins>:**\n",
        "    * n_estimators: 1, 10, 100, 500, 1000\n",
        "    * max_depth: 5, 10, 20\n",
        "    * min_samples_leaf: 1, 5, 10\n",
        "\n",
        "* pour le **<ins>SVM</ins>:**\n",
        "    * kernel: 'rbf' \n",
        "    * C: 1e3, 5e3, 1e4, 5e4, 1e5, 1e6\n",
        "    * gamma: 0.0001, 0.0005, 0.001, 0.005, 0.01, 0.1, 0.5\n"
      ]
    },
    {
      "cell_type": "markdown",
      "metadata": {
        "id": "eNPrpR4aZFuf"
      },
      "source": [
        "_Your commented code below_"
      ]
    },
    {
      "cell_type": "code",
      "metadata": {
        "id": "ljAL2qjXZFug",
        "colab": {
          "base_uri": "https://localhost:8080/"
        },
        "outputId": "7e0fe14d-cdc3-4880-bfeb-10a89394ac88"
      },
      "source": [
        "from sklearn.model_selection import GridSearchCV\n",
        "#Regression logistique\n",
        "\n",
        "# Set the parameters by cross-validation\n",
        "tuned_parameters = [{\"penalty\": ['l1', 'l2', 'elasticnet', 'none'], \"C\": [0.001, 0.01,0.1,1,10]}]\n",
        "\n",
        "scores = [\"precision\", \"recall\"]\n",
        "\n",
        "for score in scores:\n",
        "    print(\"# Tuning hyper-parameters for %s\" % score)\n",
        "    print()\n",
        "\n",
        "    clf = GridSearchCV(LogisticRegression(), tuned_parameters, scoring=\"%s_macro\" % score)\n",
        "    clf.fit(X_train, labelIndices_train)\n",
        "\n",
        "    print(\"Best parameters set found on development set:\")\n",
        "    print()\n",
        "    print(clf.best_params_)\n",
        "    print()\n",
        "    print(\"Grid scores on development set:\")\n",
        "    print()\n",
        "    means = clf.cv_results_[\"mean_test_score\"]\n",
        "    stds = clf.cv_results_[\"std_test_score\"]\n",
        "    for mean, std, params in zip(means, stds, clf.cv_results_[\"params\"]):\n",
        "        print(\"%0.3f (+/-%0.03f) for %r\" % (mean, std * 2, params))\n",
        "    print()\n",
        "\n",
        "    print(\"Detailed classification report:\")\n",
        "    print()\n",
        "    print(\"The model is trained on the full development set.\")\n",
        "    print(\"The scores are computed on the full evaluation set.\")\n",
        "    print()\n",
        "    y_true, y_pred = labelIndices_test, clf.predict(X_test)\n",
        "    display_classification_report(y_true,y_pred)\n",
        "    print()"
      ],
      "execution_count": 12,
      "outputs": [
        {
          "output_type": "stream",
          "name": "stdout",
          "text": [
            "# Tuning hyper-parameters for precision\n",
            "\n",
            "Best parameters set found on development set:\n",
            "\n",
            "{'C': 10, 'penalty': 'l2'}\n",
            "\n",
            "Grid scores on development set:\n",
            "\n",
            "nan (+/-nan) for {'C': 0.001, 'penalty': 'l1'}\n",
            "0.779 (+/-0.172) for {'C': 0.001, 'penalty': 'l2'}\n",
            "nan (+/-nan) for {'C': 0.001, 'penalty': 'elasticnet'}\n",
            "0.960 (+/-0.070) for {'C': 0.001, 'penalty': 'none'}\n",
            "nan (+/-nan) for {'C': 0.01, 'penalty': 'l1'}\n",
            "0.944 (+/-0.076) for {'C': 0.01, 'penalty': 'l2'}\n",
            "nan (+/-nan) for {'C': 0.01, 'penalty': 'elasticnet'}\n",
            "0.960 (+/-0.070) for {'C': 0.01, 'penalty': 'none'}\n",
            "nan (+/-nan) for {'C': 0.1, 'penalty': 'l1'}\n",
            "0.957 (+/-0.068) for {'C': 0.1, 'penalty': 'l2'}\n",
            "nan (+/-nan) for {'C': 0.1, 'penalty': 'elasticnet'}\n",
            "0.960 (+/-0.070) for {'C': 0.1, 'penalty': 'none'}\n",
            "nan (+/-nan) for {'C': 1, 'penalty': 'l1'}\n",
            "0.964 (+/-0.070) for {'C': 1, 'penalty': 'l2'}\n",
            "nan (+/-nan) for {'C': 1, 'penalty': 'elasticnet'}\n",
            "0.960 (+/-0.070) for {'C': 1, 'penalty': 'none'}\n",
            "nan (+/-nan) for {'C': 10, 'penalty': 'l1'}\n",
            "0.970 (+/-0.052) for {'C': 10, 'penalty': 'l2'}\n",
            "nan (+/-nan) for {'C': 10, 'penalty': 'elasticnet'}\n",
            "0.960 (+/-0.070) for {'C': 10, 'penalty': 'none'}\n",
            "\n",
            "Detailed classification report:\n",
            "\n",
            "The model is trained on the full development set.\n",
            "The scores are computed on the full evaluation set.\n",
            "\n",
            "              precision    recall  f1-score   support\n",
            "\n",
            "           1       1.00      0.96      0.98        24\n",
            "           0       1.00      1.00      1.00        21\n",
            "\n",
            "   micro avg       1.00      0.98      0.99        45\n",
            "   macro avg       1.00      0.98      0.99        45\n",
            "weighted avg       1.00      0.98      0.99        45\n",
            "\n",
            "\n",
            "# Tuning hyper-parameters for recall\n",
            "\n",
            "Best parameters set found on development set:\n",
            "\n",
            "{'C': 10, 'penalty': 'l2'}\n",
            "\n",
            "Grid scores on development set:\n",
            "\n",
            "nan (+/-nan) for {'C': 0.001, 'penalty': 'l1'}\n",
            "0.744 (+/-0.087) for {'C': 0.001, 'penalty': 'l2'}\n",
            "nan (+/-nan) for {'C': 0.001, 'penalty': 'elasticnet'}\n",
            "0.949 (+/-0.091) for {'C': 0.001, 'penalty': 'none'}\n",
            "nan (+/-nan) for {'C': 0.01, 'penalty': 'l1'}\n",
            "0.927 (+/-0.098) for {'C': 0.01, 'penalty': 'l2'}\n",
            "nan (+/-nan) for {'C': 0.01, 'penalty': 'elasticnet'}\n",
            "0.949 (+/-0.091) for {'C': 0.01, 'penalty': 'none'}\n",
            "nan (+/-nan) for {'C': 0.1, 'penalty': 'l1'}\n",
            "0.944 (+/-0.082) for {'C': 0.1, 'penalty': 'l2'}\n",
            "nan (+/-nan) for {'C': 0.1, 'penalty': 'elasticnet'}\n",
            "0.949 (+/-0.091) for {'C': 0.1, 'penalty': 'none'}\n",
            "nan (+/-nan) for {'C': 1, 'penalty': 'l1'}\n",
            "0.953 (+/-0.085) for {'C': 1, 'penalty': 'l2'}\n",
            "nan (+/-nan) for {'C': 1, 'penalty': 'elasticnet'}\n",
            "0.949 (+/-0.091) for {'C': 1, 'penalty': 'none'}\n",
            "nan (+/-nan) for {'C': 10, 'penalty': 'l1'}\n",
            "0.961 (+/-0.063) for {'C': 10, 'penalty': 'l2'}\n",
            "nan (+/-nan) for {'C': 10, 'penalty': 'elasticnet'}\n",
            "0.949 (+/-0.091) for {'C': 10, 'penalty': 'none'}\n",
            "\n",
            "Detailed classification report:\n",
            "\n",
            "The model is trained on the full development set.\n",
            "The scores are computed on the full evaluation set.\n",
            "\n",
            "              precision    recall  f1-score   support\n",
            "\n",
            "           1       1.00      0.96      0.98        24\n",
            "           0       1.00      1.00      1.00        21\n",
            "\n",
            "   micro avg       1.00      0.98      0.99        45\n",
            "   macro avg       1.00      0.98      0.99        45\n",
            "weighted avg       1.00      0.98      0.99        45\n",
            "\n",
            "\n"
          ]
        }
      ]
    },
    {
      "cell_type": "code",
      "metadata": {
        "id": "gOVoTQxCZFug",
        "colab": {
          "base_uri": "https://localhost:8080/"
        },
        "outputId": "2913ebe7-7afc-4887-bace-e78e33a05523"
      },
      "source": [
        "#Réseau de Neurone\n",
        "\n",
        "# Set the parameters by cross-validation\n",
        "tuned_parameters = [{\"hidden_layer_sizes\": [(100), (100,100), (100,100,100)],\n",
        "                     \"activation\": ['logistic', 'tanh', 'relu'], \n",
        "                     \"alpha\": [0.0001, 0.001, 0.01, 0.1, 1, 10]}]\n",
        "scores = [\"precision\", \"recall\"]\n",
        "\n",
        "for score in scores:\n",
        "    print(\"# Tuning hyper-parameters for %s\" % score)\n",
        "    print()\n",
        "\n",
        "    clf = GridSearchCV(MLPClassifier(), tuned_parameters, scoring=\"%s_macro\" % score)\n",
        "    clf.fit(X_train, labelIndices_train)\n",
        "\n",
        "    print(\"Best parameters set found on development set:\")\n",
        "    print()\n",
        "    print(clf.best_params_)\n",
        "    print()\n",
        "    print(\"Grid scores on development set:\")\n",
        "    print()\n",
        "    means = clf.cv_results_[\"mean_test_score\"]\n",
        "    stds = clf.cv_results_[\"std_test_score\"]\n",
        "    for mean, std, params in zip(means, stds, clf.cv_results_[\"params\"]):\n",
        "        print(\"%0.3f (+/-%0.03f) for %r\" % (mean, std * 2, params))\n",
        "    print()\n",
        "\n",
        "    print(\"Detailed classification report:\")\n",
        "    print()\n",
        "    print(\"The model is trained on the full development set.\")\n",
        "    print(\"The scores are computed on the full evaluation set.\")\n",
        "    print()\n",
        "    y_true, y_pred = labelIndices_test, clf.predict(X_test)\n",
        "    display_classification_report(y_true,y_pred)\n",
        "    print()"
      ],
      "execution_count": 13,
      "outputs": [
        {
          "output_type": "stream",
          "name": "stdout",
          "text": [
            "# Tuning hyper-parameters for precision\n",
            "\n",
            "Best parameters set found on development set:\n",
            "\n",
            "{'activation': 'tanh', 'alpha': 1, 'hidden_layer_sizes': (100, 100)}\n",
            "\n",
            "Grid scores on development set:\n",
            "\n",
            "0.945 (+/-0.055) for {'activation': 'logistic', 'alpha': 0.0001, 'hidden_layer_sizes': 100}\n",
            "0.955 (+/-0.064) for {'activation': 'logistic', 'alpha': 0.0001, 'hidden_layer_sizes': (100, 100)}\n",
            "0.954 (+/-0.057) for {'activation': 'logistic', 'alpha': 0.0001, 'hidden_layer_sizes': (100, 100, 100)}\n",
            "0.945 (+/-0.055) for {'activation': 'logistic', 'alpha': 0.001, 'hidden_layer_sizes': 100}\n",
            "0.953 (+/-0.065) for {'activation': 'logistic', 'alpha': 0.001, 'hidden_layer_sizes': (100, 100)}\n",
            "0.959 (+/-0.049) for {'activation': 'logistic', 'alpha': 0.001, 'hidden_layer_sizes': (100, 100, 100)}\n",
            "0.945 (+/-0.055) for {'activation': 'logistic', 'alpha': 0.01, 'hidden_layer_sizes': 100}\n",
            "0.955 (+/-0.064) for {'activation': 'logistic', 'alpha': 0.01, 'hidden_layer_sizes': (100, 100)}\n",
            "0.965 (+/-0.039) for {'activation': 'logistic', 'alpha': 0.01, 'hidden_layer_sizes': (100, 100, 100)}\n",
            "0.945 (+/-0.055) for {'activation': 'logistic', 'alpha': 0.1, 'hidden_layer_sizes': 100}\n",
            "0.945 (+/-0.056) for {'activation': 'logistic', 'alpha': 0.1, 'hidden_layer_sizes': (100, 100)}\n",
            "0.957 (+/-0.055) for {'activation': 'logistic', 'alpha': 0.1, 'hidden_layer_sizes': (100, 100, 100)}\n",
            "0.947 (+/-0.067) for {'activation': 'logistic', 'alpha': 1, 'hidden_layer_sizes': 100}\n",
            "0.943 (+/-0.077) for {'activation': 'logistic', 'alpha': 1, 'hidden_layer_sizes': (100, 100)}\n",
            "0.860 (+/-0.171) for {'activation': 'logistic', 'alpha': 1, 'hidden_layer_sizes': (100, 100, 100)}\n",
            "0.922 (+/-0.060) for {'activation': 'logistic', 'alpha': 10, 'hidden_layer_sizes': 100}\n",
            "0.447 (+/-0.062) for {'activation': 'logistic', 'alpha': 10, 'hidden_layer_sizes': (100, 100)}\n",
            "0.032 (+/-0.002) for {'activation': 'logistic', 'alpha': 10, 'hidden_layer_sizes': (100, 100, 100)}\n",
            "0.963 (+/-0.057) for {'activation': 'tanh', 'alpha': 0.0001, 'hidden_layer_sizes': 100}\n",
            "0.973 (+/-0.043) for {'activation': 'tanh', 'alpha': 0.0001, 'hidden_layer_sizes': (100, 100)}\n",
            "0.979 (+/-0.028) for {'activation': 'tanh', 'alpha': 0.0001, 'hidden_layer_sizes': (100, 100, 100)}\n",
            "0.969 (+/-0.053) for {'activation': 'tanh', 'alpha': 0.001, 'hidden_layer_sizes': 100}\n",
            "0.976 (+/-0.035) for {'activation': 'tanh', 'alpha': 0.001, 'hidden_layer_sizes': (100, 100)}\n",
            "0.980 (+/-0.030) for {'activation': 'tanh', 'alpha': 0.001, 'hidden_layer_sizes': (100, 100, 100)}\n",
            "0.960 (+/-0.065) for {'activation': 'tanh', 'alpha': 0.01, 'hidden_layer_sizes': 100}\n",
            "0.969 (+/-0.053) for {'activation': 'tanh', 'alpha': 0.01, 'hidden_layer_sizes': (100, 100)}\n",
            "0.979 (+/-0.028) for {'activation': 'tanh', 'alpha': 0.01, 'hidden_layer_sizes': (100, 100, 100)}\n",
            "0.964 (+/-0.044) for {'activation': 'tanh', 'alpha': 0.1, 'hidden_layer_sizes': 100}\n",
            "0.976 (+/-0.039) for {'activation': 'tanh', 'alpha': 0.1, 'hidden_layer_sizes': (100, 100)}\n",
            "0.973 (+/-0.043) for {'activation': 'tanh', 'alpha': 0.1, 'hidden_layer_sizes': (100, 100, 100)}\n",
            "0.959 (+/-0.075) for {'activation': 'tanh', 'alpha': 1, 'hidden_layer_sizes': 100}\n",
            "0.980 (+/-0.030) for {'activation': 'tanh', 'alpha': 1, 'hidden_layer_sizes': (100, 100)}\n",
            "0.973 (+/-0.043) for {'activation': 'tanh', 'alpha': 1, 'hidden_layer_sizes': (100, 100, 100)}\n",
            "0.949 (+/-0.076) for {'activation': 'tanh', 'alpha': 10, 'hidden_layer_sizes': 100}\n",
            "0.949 (+/-0.076) for {'activation': 'tanh', 'alpha': 10, 'hidden_layer_sizes': (100, 100)}\n",
            "0.952 (+/-0.080) for {'activation': 'tanh', 'alpha': 10, 'hidden_layer_sizes': (100, 100, 100)}\n",
            "0.963 (+/-0.058) for {'activation': 'relu', 'alpha': 0.0001, 'hidden_layer_sizes': 100}\n",
            "0.966 (+/-0.046) for {'activation': 'relu', 'alpha': 0.0001, 'hidden_layer_sizes': (100, 100)}\n",
            "0.969 (+/-0.034) for {'activation': 'relu', 'alpha': 0.0001, 'hidden_layer_sizes': (100, 100, 100)}\n",
            "0.970 (+/-0.045) for {'activation': 'relu', 'alpha': 0.001, 'hidden_layer_sizes': 100}\n",
            "0.962 (+/-0.053) for {'activation': 'relu', 'alpha': 0.001, 'hidden_layer_sizes': (100, 100)}\n",
            "0.969 (+/-0.036) for {'activation': 'relu', 'alpha': 0.001, 'hidden_layer_sizes': (100, 100, 100)}\n",
            "0.959 (+/-0.061) for {'activation': 'relu', 'alpha': 0.01, 'hidden_layer_sizes': 100}\n",
            "0.962 (+/-0.052) for {'activation': 'relu', 'alpha': 0.01, 'hidden_layer_sizes': (100, 100)}\n",
            "0.969 (+/-0.036) for {'activation': 'relu', 'alpha': 0.01, 'hidden_layer_sizes': (100, 100, 100)}\n",
            "0.963 (+/-0.043) for {'activation': 'relu', 'alpha': 0.1, 'hidden_layer_sizes': 100}\n",
            "0.965 (+/-0.046) for {'activation': 'relu', 'alpha': 0.1, 'hidden_layer_sizes': (100, 100)}\n",
            "0.969 (+/-0.035) for {'activation': 'relu', 'alpha': 0.1, 'hidden_layer_sizes': (100, 100, 100)}\n",
            "0.959 (+/-0.062) for {'activation': 'relu', 'alpha': 1, 'hidden_layer_sizes': 100}\n",
            "0.969 (+/-0.053) for {'activation': 'relu', 'alpha': 1, 'hidden_layer_sizes': (100, 100)}\n",
            "0.972 (+/-0.048) for {'activation': 'relu', 'alpha': 1, 'hidden_layer_sizes': (100, 100, 100)}\n",
            "0.950 (+/-0.072) for {'activation': 'relu', 'alpha': 10, 'hidden_layer_sizes': 100}\n",
            "0.956 (+/-0.071) for {'activation': 'relu', 'alpha': 10, 'hidden_layer_sizes': (100, 100)}\n",
            "0.963 (+/-0.065) for {'activation': 'relu', 'alpha': 10, 'hidden_layer_sizes': (100, 100, 100)}\n",
            "\n",
            "Detailed classification report:\n",
            "\n",
            "The model is trained on the full development set.\n",
            "The scores are computed on the full evaluation set.\n",
            "\n",
            "              precision    recall  f1-score   support\n",
            "\n",
            "           1       1.00      0.88      0.93        24\n",
            "           0       0.95      1.00      0.98        21\n",
            "\n",
            "   micro avg       0.98      0.93      0.95        45\n",
            "   macro avg       0.98      0.94      0.96        45\n",
            "weighted avg       0.98      0.93      0.95        45\n",
            "\n",
            "\n",
            "# Tuning hyper-parameters for recall\n",
            "\n",
            "Best parameters set found on development set:\n",
            "\n",
            "{'activation': 'tanh', 'alpha': 0.01, 'hidden_layer_sizes': (100, 100, 100)}\n",
            "\n",
            "Grid scores on development set:\n",
            "\n",
            "0.936 (+/-0.069) for {'activation': 'logistic', 'alpha': 0.0001, 'hidden_layer_sizes': 100}\n",
            "0.942 (+/-0.065) for {'activation': 'logistic', 'alpha': 0.0001, 'hidden_layer_sizes': (100, 100)}\n",
            "0.945 (+/-0.066) for {'activation': 'logistic', 'alpha': 0.0001, 'hidden_layer_sizes': (100, 100, 100)}\n",
            "0.936 (+/-0.069) for {'activation': 'logistic', 'alpha': 0.001, 'hidden_layer_sizes': 100}\n",
            "0.945 (+/-0.086) for {'activation': 'logistic', 'alpha': 0.001, 'hidden_layer_sizes': (100, 100)}\n",
            "0.942 (+/-0.078) for {'activation': 'logistic', 'alpha': 0.001, 'hidden_layer_sizes': (100, 100, 100)}\n",
            "0.933 (+/-0.066) for {'activation': 'logistic', 'alpha': 0.01, 'hidden_layer_sizes': 100}\n",
            "0.941 (+/-0.060) for {'activation': 'logistic', 'alpha': 0.01, 'hidden_layer_sizes': (100, 100)}\n",
            "0.953 (+/-0.067) for {'activation': 'logistic', 'alpha': 0.01, 'hidden_layer_sizes': (100, 100, 100)}\n",
            "0.933 (+/-0.066) for {'activation': 'logistic', 'alpha': 0.1, 'hidden_layer_sizes': 100}\n",
            "0.937 (+/-0.080) for {'activation': 'logistic', 'alpha': 0.1, 'hidden_layer_sizes': (100, 100)}\n",
            "0.942 (+/-0.078) for {'activation': 'logistic', 'alpha': 0.1, 'hidden_layer_sizes': (100, 100, 100)}\n",
            "0.932 (+/-0.082) for {'activation': 'logistic', 'alpha': 1, 'hidden_layer_sizes': 100}\n",
            "0.928 (+/-0.079) for {'activation': 'logistic', 'alpha': 1, 'hidden_layer_sizes': (100, 100)}\n",
            "0.891 (+/-0.134) for {'activation': 'logistic', 'alpha': 1, 'hidden_layer_sizes': (100, 100, 100)}\n",
            "0.888 (+/-0.068) for {'activation': 'logistic', 'alpha': 10, 'hidden_layer_sizes': 100}\n",
            "0.600 (+/-0.096) for {'activation': 'logistic', 'alpha': 10, 'hidden_layer_sizes': (100, 100)}\n",
            "0.167 (+/-0.000) for {'activation': 'logistic', 'alpha': 10, 'hidden_layer_sizes': (100, 100, 100)}\n",
            "0.957 (+/-0.071) for {'activation': 'tanh', 'alpha': 0.0001, 'hidden_layer_sizes': 100}\n",
            "0.966 (+/-0.051) for {'activation': 'tanh', 'alpha': 0.0001, 'hidden_layer_sizes': (100, 100)}\n",
            "0.962 (+/-0.059) for {'activation': 'tanh', 'alpha': 0.0001, 'hidden_layer_sizes': (100, 100, 100)}\n",
            "0.953 (+/-0.080) for {'activation': 'tanh', 'alpha': 0.001, 'hidden_layer_sizes': 100}\n",
            "0.970 (+/-0.045) for {'activation': 'tanh', 'alpha': 0.001, 'hidden_layer_sizes': (100, 100)}\n",
            "0.965 (+/-0.062) for {'activation': 'tanh', 'alpha': 0.001, 'hidden_layer_sizes': (100, 100, 100)}\n",
            "0.953 (+/-0.067) for {'activation': 'tanh', 'alpha': 0.01, 'hidden_layer_sizes': 100}\n",
            "0.958 (+/-0.071) for {'activation': 'tanh', 'alpha': 0.01, 'hidden_layer_sizes': (100, 100)}\n",
            "0.974 (+/-0.045) for {'activation': 'tanh', 'alpha': 0.01, 'hidden_layer_sizes': (100, 100, 100)}\n",
            "0.957 (+/-0.071) for {'activation': 'tanh', 'alpha': 0.1, 'hidden_layer_sizes': 100}\n",
            "0.957 (+/-0.071) for {'activation': 'tanh', 'alpha': 0.1, 'hidden_layer_sizes': (100, 100)}\n",
            "0.970 (+/-0.045) for {'activation': 'tanh', 'alpha': 0.1, 'hidden_layer_sizes': (100, 100, 100)}\n",
            "0.952 (+/-0.071) for {'activation': 'tanh', 'alpha': 1, 'hidden_layer_sizes': 100}\n",
            "0.965 (+/-0.062) for {'activation': 'tanh', 'alpha': 1, 'hidden_layer_sizes': (100, 100)}\n",
            "0.966 (+/-0.051) for {'activation': 'tanh', 'alpha': 1, 'hidden_layer_sizes': (100, 100, 100)}\n",
            "0.936 (+/-0.089) for {'activation': 'tanh', 'alpha': 10, 'hidden_layer_sizes': 100}\n",
            "0.936 (+/-0.089) for {'activation': 'tanh', 'alpha': 10, 'hidden_layer_sizes': (100, 100)}\n",
            "0.940 (+/-0.084) for {'activation': 'tanh', 'alpha': 10, 'hidden_layer_sizes': (100, 100, 100)}\n",
            "0.948 (+/-0.066) for {'activation': 'relu', 'alpha': 0.0001, 'hidden_layer_sizes': 100}\n",
            "0.957 (+/-0.056) for {'activation': 'relu', 'alpha': 0.0001, 'hidden_layer_sizes': (100, 100)}\n",
            "0.965 (+/-0.062) for {'activation': 'relu', 'alpha': 0.0001, 'hidden_layer_sizes': (100, 100, 100)}\n",
            "0.957 (+/-0.062) for {'activation': 'relu', 'alpha': 0.001, 'hidden_layer_sizes': 100}\n",
            "0.962 (+/-0.064) for {'activation': 'relu', 'alpha': 0.001, 'hidden_layer_sizes': (100, 100)}\n",
            "0.970 (+/-0.021) for {'activation': 'relu', 'alpha': 0.001, 'hidden_layer_sizes': (100, 100, 100)}\n",
            "0.953 (+/-0.067) for {'activation': 'relu', 'alpha': 0.01, 'hidden_layer_sizes': 100}\n",
            "0.957 (+/-0.056) for {'activation': 'relu', 'alpha': 0.01, 'hidden_layer_sizes': (100, 100)}\n",
            "0.965 (+/-0.039) for {'activation': 'relu', 'alpha': 0.01, 'hidden_layer_sizes': (100, 100, 100)}\n",
            "0.953 (+/-0.076) for {'activation': 'relu', 'alpha': 0.1, 'hidden_layer_sizes': 100}\n",
            "0.953 (+/-0.062) for {'activation': 'relu', 'alpha': 0.1, 'hidden_layer_sizes': (100, 100)}\n",
            "0.966 (+/-0.050) for {'activation': 'relu', 'alpha': 0.1, 'hidden_layer_sizes': (100, 100, 100)}\n",
            "0.944 (+/-0.081) for {'activation': 'relu', 'alpha': 1, 'hidden_layer_sizes': 100}\n",
            "0.957 (+/-0.079) for {'activation': 'relu', 'alpha': 1, 'hidden_layer_sizes': (100, 100)}\n",
            "0.965 (+/-0.062) for {'activation': 'relu', 'alpha': 1, 'hidden_layer_sizes': (100, 100, 100)}\n",
            "0.940 (+/-0.084) for {'activation': 'relu', 'alpha': 10, 'hidden_layer_sizes': 100}\n",
            "0.948 (+/-0.086) for {'activation': 'relu', 'alpha': 10, 'hidden_layer_sizes': (100, 100)}\n",
            "0.956 (+/-0.070) for {'activation': 'relu', 'alpha': 10, 'hidden_layer_sizes': (100, 100, 100)}\n",
            "\n",
            "Detailed classification report:\n",
            "\n",
            "The model is trained on the full development set.\n",
            "The scores are computed on the full evaluation set.\n",
            "\n",
            "              precision    recall  f1-score   support\n",
            "\n",
            "           1       1.00      0.96      0.98        24\n",
            "           0       1.00      1.00      1.00        21\n",
            "\n",
            "   micro avg       1.00      0.98      0.99        45\n",
            "   macro avg       1.00      0.98      0.99        45\n",
            "weighted avg       1.00      0.98      0.99        45\n",
            "\n",
            "\n"
          ]
        }
      ]
    },
    {
      "cell_type": "code",
      "metadata": {
        "id": "FPjBDStoZFug",
        "colab": {
          "base_uri": "https://localhost:8080/"
        },
        "outputId": "5e72bc8b-186c-4497-905a-a826665d316a"
      },
      "source": [
        "#Random Forest\n",
        "\n",
        "# Set the parameters by cross-validation\n",
        "tuned_parameters = [{\"n_estimators\": [1, 10, 100, 500, 1000], \n",
        "                     \"max_depth\": [5, 10, 20],\n",
        "                     \"min_samples_leaf\": [1, 5, 10]}]\n",
        "\n",
        "scores = [\"precision\", \"recall\"]\n",
        "\n",
        "for score in scores:\n",
        "    print(\"# Tuning hyper-parameters for %s\" % score)\n",
        "    print()\n",
        "\n",
        "    clf = GridSearchCV(RandomForestClassifier(), tuned_parameters, scoring=\"%s_macro\" % score)\n",
        "    clf.fit(X_train, labelIndices_train)\n",
        "\n",
        "    print(\"Best parameters set found on development set:\")\n",
        "    print()\n",
        "    print(clf.best_params_)\n",
        "    print()\n",
        "    print(\"Grid scores on development set:\")\n",
        "    print()\n",
        "    means = clf.cv_results_[\"mean_test_score\"]\n",
        "    stds = clf.cv_results_[\"std_test_score\"]\n",
        "    for mean, std, params in zip(means, stds, clf.cv_results_[\"params\"]):\n",
        "        print(\"%0.3f (+/-%0.03f) for %r\" % (mean, std * 2, params))\n",
        "    print()\n",
        "\n",
        "    print(\"Detailed classification report:\")\n",
        "    print()\n",
        "    print(\"The model is trained on the full development set.\")\n",
        "    print(\"The scores are computed on the full evaluation set.\")\n",
        "    print()\n",
        "    y_true, y_pred = labelIndices_test, clf.predict(X_test)\n",
        "    display_classification_report(y_true,y_pred)\n",
        "    print()"
      ],
      "execution_count": 14,
      "outputs": [
        {
          "output_type": "stream",
          "name": "stdout",
          "text": [
            "# Tuning hyper-parameters for precision\n",
            "\n",
            "Best parameters set found on development set:\n",
            "\n",
            "{'max_depth': 10, 'min_samples_leaf': 1, 'n_estimators': 100}\n",
            "\n",
            "Grid scores on development set:\n",
            "\n",
            "0.860 (+/-0.081) for {'max_depth': 5, 'min_samples_leaf': 1, 'n_estimators': 1}\n",
            "0.948 (+/-0.039) for {'max_depth': 5, 'min_samples_leaf': 1, 'n_estimators': 10}\n",
            "0.926 (+/-0.057) for {'max_depth': 5, 'min_samples_leaf': 1, 'n_estimators': 100}\n",
            "0.931 (+/-0.044) for {'max_depth': 5, 'min_samples_leaf': 1, 'n_estimators': 500}\n",
            "0.931 (+/-0.044) for {'max_depth': 5, 'min_samples_leaf': 1, 'n_estimators': 1000}\n",
            "0.866 (+/-0.116) for {'max_depth': 5, 'min_samples_leaf': 5, 'n_estimators': 1}\n",
            "0.915 (+/-0.037) for {'max_depth': 5, 'min_samples_leaf': 5, 'n_estimators': 10}\n",
            "0.913 (+/-0.041) for {'max_depth': 5, 'min_samples_leaf': 5, 'n_estimators': 100}\n",
            "0.924 (+/-0.057) for {'max_depth': 5, 'min_samples_leaf': 5, 'n_estimators': 500}\n",
            "0.921 (+/-0.040) for {'max_depth': 5, 'min_samples_leaf': 5, 'n_estimators': 1000}\n",
            "0.841 (+/-0.153) for {'max_depth': 5, 'min_samples_leaf': 10, 'n_estimators': 1}\n",
            "0.894 (+/-0.079) for {'max_depth': 5, 'min_samples_leaf': 10, 'n_estimators': 10}\n",
            "0.900 (+/-0.059) for {'max_depth': 5, 'min_samples_leaf': 10, 'n_estimators': 100}\n",
            "0.904 (+/-0.060) for {'max_depth': 5, 'min_samples_leaf': 10, 'n_estimators': 500}\n",
            "0.901 (+/-0.067) for {'max_depth': 5, 'min_samples_leaf': 10, 'n_estimators': 1000}\n",
            "0.872 (+/-0.109) for {'max_depth': 10, 'min_samples_leaf': 1, 'n_estimators': 1}\n",
            "0.945 (+/-0.046) for {'max_depth': 10, 'min_samples_leaf': 1, 'n_estimators': 10}\n",
            "0.954 (+/-0.018) for {'max_depth': 10, 'min_samples_leaf': 1, 'n_estimators': 100}\n",
            "0.944 (+/-0.047) for {'max_depth': 10, 'min_samples_leaf': 1, 'n_estimators': 500}\n",
            "0.944 (+/-0.047) for {'max_depth': 10, 'min_samples_leaf': 1, 'n_estimators': 1000}\n",
            "0.854 (+/-0.058) for {'max_depth': 10, 'min_samples_leaf': 5, 'n_estimators': 1}\n",
            "0.930 (+/-0.055) for {'max_depth': 10, 'min_samples_leaf': 5, 'n_estimators': 10}\n",
            "0.928 (+/-0.035) for {'max_depth': 10, 'min_samples_leaf': 5, 'n_estimators': 100}\n",
            "0.931 (+/-0.042) for {'max_depth': 10, 'min_samples_leaf': 5, 'n_estimators': 500}\n",
            "0.931 (+/-0.042) for {'max_depth': 10, 'min_samples_leaf': 5, 'n_estimators': 1000}\n",
            "0.840 (+/-0.087) for {'max_depth': 10, 'min_samples_leaf': 10, 'n_estimators': 1}\n",
            "0.908 (+/-0.061) for {'max_depth': 10, 'min_samples_leaf': 10, 'n_estimators': 10}\n",
            "0.904 (+/-0.039) for {'max_depth': 10, 'min_samples_leaf': 10, 'n_estimators': 100}\n",
            "0.904 (+/-0.060) for {'max_depth': 10, 'min_samples_leaf': 10, 'n_estimators': 500}\n",
            "0.906 (+/-0.058) for {'max_depth': 10, 'min_samples_leaf': 10, 'n_estimators': 1000}\n",
            "0.903 (+/-0.050) for {'max_depth': 20, 'min_samples_leaf': 1, 'n_estimators': 1}\n",
            "0.940 (+/-0.052) for {'max_depth': 20, 'min_samples_leaf': 1, 'n_estimators': 10}\n",
            "0.939 (+/-0.053) for {'max_depth': 20, 'min_samples_leaf': 1, 'n_estimators': 100}\n",
            "0.947 (+/-0.049) for {'max_depth': 20, 'min_samples_leaf': 1, 'n_estimators': 500}\n",
            "0.944 (+/-0.047) for {'max_depth': 20, 'min_samples_leaf': 1, 'n_estimators': 1000}\n",
            "0.862 (+/-0.075) for {'max_depth': 20, 'min_samples_leaf': 5, 'n_estimators': 1}\n",
            "0.923 (+/-0.094) for {'max_depth': 20, 'min_samples_leaf': 5, 'n_estimators': 10}\n",
            "0.924 (+/-0.040) for {'max_depth': 20, 'min_samples_leaf': 5, 'n_estimators': 100}\n",
            "0.926 (+/-0.056) for {'max_depth': 20, 'min_samples_leaf': 5, 'n_estimators': 500}\n",
            "0.926 (+/-0.056) for {'max_depth': 20, 'min_samples_leaf': 5, 'n_estimators': 1000}\n",
            "0.812 (+/-0.110) for {'max_depth': 20, 'min_samples_leaf': 10, 'n_estimators': 1}\n",
            "0.895 (+/-0.075) for {'max_depth': 20, 'min_samples_leaf': 10, 'n_estimators': 10}\n",
            "0.912 (+/-0.069) for {'max_depth': 20, 'min_samples_leaf': 10, 'n_estimators': 100}\n",
            "0.902 (+/-0.066) for {'max_depth': 20, 'min_samples_leaf': 10, 'n_estimators': 500}\n",
            "0.907 (+/-0.056) for {'max_depth': 20, 'min_samples_leaf': 10, 'n_estimators': 1000}\n",
            "\n",
            "Detailed classification report:\n",
            "\n",
            "The model is trained on the full development set.\n",
            "The scores are computed on the full evaluation set.\n",
            "\n",
            "              precision    recall  f1-score   support\n",
            "\n",
            "           1       1.00      0.83      0.91        24\n",
            "           0       0.95      1.00      0.98        21\n",
            "\n",
            "   micro avg       0.98      0.91      0.94        45\n",
            "   macro avg       0.98      0.92      0.94        45\n",
            "weighted avg       0.98      0.91      0.94        45\n",
            "\n",
            "\n",
            "# Tuning hyper-parameters for recall\n",
            "\n",
            "Best parameters set found on development set:\n",
            "\n",
            "{'max_depth': 10, 'min_samples_leaf': 1, 'n_estimators': 100}\n",
            "\n",
            "Grid scores on development set:\n",
            "\n",
            "0.864 (+/-0.067) for {'max_depth': 5, 'min_samples_leaf': 1, 'n_estimators': 1}\n",
            "0.909 (+/-0.041) for {'max_depth': 5, 'min_samples_leaf': 1, 'n_estimators': 10}\n",
            "0.928 (+/-0.061) for {'max_depth': 5, 'min_samples_leaf': 1, 'n_estimators': 100}\n",
            "0.923 (+/-0.048) for {'max_depth': 5, 'min_samples_leaf': 1, 'n_estimators': 500}\n",
            "0.923 (+/-0.048) for {'max_depth': 5, 'min_samples_leaf': 1, 'n_estimators': 1000}\n",
            "0.849 (+/-0.082) for {'max_depth': 5, 'min_samples_leaf': 5, 'n_estimators': 1}\n",
            "0.905 (+/-0.040) for {'max_depth': 5, 'min_samples_leaf': 5, 'n_estimators': 10}\n",
            "0.906 (+/-0.044) for {'max_depth': 5, 'min_samples_leaf': 5, 'n_estimators': 100}\n",
            "0.914 (+/-0.038) for {'max_depth': 5, 'min_samples_leaf': 5, 'n_estimators': 500}\n",
            "0.910 (+/-0.051) for {'max_depth': 5, 'min_samples_leaf': 5, 'n_estimators': 1000}\n",
            "0.803 (+/-0.043) for {'max_depth': 5, 'min_samples_leaf': 10, 'n_estimators': 1}\n",
            "0.902 (+/-0.065) for {'max_depth': 5, 'min_samples_leaf': 10, 'n_estimators': 10}\n",
            "0.895 (+/-0.041) for {'max_depth': 5, 'min_samples_leaf': 10, 'n_estimators': 100}\n",
            "0.895 (+/-0.058) for {'max_depth': 5, 'min_samples_leaf': 10, 'n_estimators': 500}\n",
            "0.891 (+/-0.047) for {'max_depth': 5, 'min_samples_leaf': 10, 'n_estimators': 1000}\n",
            "0.893 (+/-0.124) for {'max_depth': 10, 'min_samples_leaf': 1, 'n_estimators': 1}\n",
            "0.938 (+/-0.043) for {'max_depth': 10, 'min_samples_leaf': 1, 'n_estimators': 10}\n",
            "0.945 (+/-0.044) for {'max_depth': 10, 'min_samples_leaf': 1, 'n_estimators': 100}\n",
            "0.937 (+/-0.052) for {'max_depth': 10, 'min_samples_leaf': 1, 'n_estimators': 500}\n",
            "0.941 (+/-0.061) for {'max_depth': 10, 'min_samples_leaf': 1, 'n_estimators': 1000}\n",
            "0.825 (+/-0.055) for {'max_depth': 10, 'min_samples_leaf': 5, 'n_estimators': 1}\n",
            "0.909 (+/-0.078) for {'max_depth': 10, 'min_samples_leaf': 5, 'n_estimators': 10}\n",
            "0.919 (+/-0.050) for {'max_depth': 10, 'min_samples_leaf': 5, 'n_estimators': 100}\n",
            "0.919 (+/-0.060) for {'max_depth': 10, 'min_samples_leaf': 5, 'n_estimators': 500}\n",
            "0.919 (+/-0.060) for {'max_depth': 10, 'min_samples_leaf': 5, 'n_estimators': 1000}\n",
            "0.870 (+/-0.096) for {'max_depth': 10, 'min_samples_leaf': 10, 'n_estimators': 1}\n",
            "0.908 (+/-0.079) for {'max_depth': 10, 'min_samples_leaf': 10, 'n_estimators': 10}\n",
            "0.882 (+/-0.038) for {'max_depth': 10, 'min_samples_leaf': 10, 'n_estimators': 100}\n",
            "0.900 (+/-0.049) for {'max_depth': 10, 'min_samples_leaf': 10, 'n_estimators': 500}\n",
            "0.900 (+/-0.049) for {'max_depth': 10, 'min_samples_leaf': 10, 'n_estimators': 1000}\n",
            "0.868 (+/-0.079) for {'max_depth': 20, 'min_samples_leaf': 1, 'n_estimators': 1}\n",
            "0.932 (+/-0.063) for {'max_depth': 20, 'min_samples_leaf': 1, 'n_estimators': 10}\n",
            "0.919 (+/-0.036) for {'max_depth': 20, 'min_samples_leaf': 1, 'n_estimators': 100}\n",
            "0.937 (+/-0.052) for {'max_depth': 20, 'min_samples_leaf': 1, 'n_estimators': 500}\n",
            "0.941 (+/-0.061) for {'max_depth': 20, 'min_samples_leaf': 1, 'n_estimators': 1000}\n",
            "0.815 (+/-0.101) for {'max_depth': 20, 'min_samples_leaf': 5, 'n_estimators': 1}\n",
            "0.900 (+/-0.059) for {'max_depth': 20, 'min_samples_leaf': 5, 'n_estimators': 10}\n",
            "0.923 (+/-0.046) for {'max_depth': 20, 'min_samples_leaf': 5, 'n_estimators': 100}\n",
            "0.923 (+/-0.046) for {'max_depth': 20, 'min_samples_leaf': 5, 'n_estimators': 500}\n",
            "0.923 (+/-0.046) for {'max_depth': 20, 'min_samples_leaf': 5, 'n_estimators': 1000}\n",
            "0.767 (+/-0.075) for {'max_depth': 20, 'min_samples_leaf': 10, 'n_estimators': 1}\n",
            "0.878 (+/-0.082) for {'max_depth': 20, 'min_samples_leaf': 10, 'n_estimators': 10}\n",
            "0.892 (+/-0.049) for {'max_depth': 20, 'min_samples_leaf': 10, 'n_estimators': 100}\n",
            "0.900 (+/-0.049) for {'max_depth': 20, 'min_samples_leaf': 10, 'n_estimators': 500}\n",
            "0.895 (+/-0.058) for {'max_depth': 20, 'min_samples_leaf': 10, 'n_estimators': 1000}\n",
            "\n",
            "Detailed classification report:\n",
            "\n",
            "The model is trained on the full development set.\n",
            "The scores are computed on the full evaluation set.\n",
            "\n",
            "              precision    recall  f1-score   support\n",
            "\n",
            "           1       1.00      0.88      0.93        24\n",
            "           0       0.95      1.00      0.98        21\n",
            "\n",
            "   micro avg       0.98      0.93      0.95        45\n",
            "   macro avg       0.98      0.94      0.96        45\n",
            "weighted avg       0.98      0.93      0.95        45\n",
            "\n",
            "\n"
          ]
        }
      ]
    },
    {
      "cell_type": "code",
      "metadata": {
        "id": "0tyXt_fhZFug",
        "colab": {
          "base_uri": "https://localhost:8080/"
        },
        "outputId": "b1b373b1-3115-4ec7-8de8-53a8739de932"
      },
      "source": [
        "#SVM\n",
        "\n",
        "# Set the parameters by cross-validation\n",
        "tuned_parameters = [{\"kernel\": ['rbf'], \n",
        "                     \"C\": [1e3, 5e3, 1e4, 5e4, 1e5, 1e6],\n",
        "                     \"gamma\": [0.0001, 0.0005, 0.001, 0.005, 0.01, 0.1, 0.5]}]\n",
        "\n",
        "scores = [\"precision\", \"recall\"]\n",
        "\n",
        "for score in scores:\n",
        "    print(\"# Tuning hyper-parameters for %s\" % score)\n",
        "    print()\n",
        "\n",
        "    clf = GridSearchCV(svm.SVC(), tuned_parameters, scoring=\"%s_macro\" % score)\n",
        "    clf.fit(X_train, labelIndices_train)\n",
        "\n",
        "    print(\"Best parameters set found on development set:\")\n",
        "    print()\n",
        "    print(clf.best_params_)\n",
        "    print()\n",
        "    print(\"Grid scores on development set:\")\n",
        "    print()\n",
        "    means = clf.cv_results_[\"mean_test_score\"]\n",
        "    stds = clf.cv_results_[\"std_test_score\"]\n",
        "    for mean, std, params in zip(means, stds, clf.cv_results_[\"params\"]):\n",
        "        print(\"%0.3f (+/-%0.03f) for %r\" % (mean, std * 2, params))\n",
        "    print()\n",
        "\n",
        "    print(\"Detailed classification report:\")\n",
        "    print()\n",
        "    print(\"The model is trained on the full development set.\")\n",
        "    print(\"The scores are computed on the full evaluation set.\")\n",
        "    print()\n",
        "    y_true, y_pred = labelIndices_test, clf.predict(X_test)\n",
        "    display_classification_report(y_true,y_pred)\n",
        "    print()"
      ],
      "execution_count": 15,
      "outputs": [
        {
          "output_type": "stream",
          "name": "stdout",
          "text": [
            "# Tuning hyper-parameters for precision\n",
            "\n",
            "Best parameters set found on development set:\n",
            "\n",
            "{'C': 1000.0, 'gamma': 0.01, 'kernel': 'rbf'}\n",
            "\n",
            "Grid scores on development set:\n",
            "\n",
            "0.972 (+/-0.044) for {'C': 1000.0, 'gamma': 0.0001, 'kernel': 'rbf'}\n",
            "0.976 (+/-0.025) for {'C': 1000.0, 'gamma': 0.0005, 'kernel': 'rbf'}\n",
            "0.976 (+/-0.025) for {'C': 1000.0, 'gamma': 0.001, 'kernel': 'rbf'}\n",
            "0.979 (+/-0.032) for {'C': 1000.0, 'gamma': 0.005, 'kernel': 'rbf'}\n",
            "0.985 (+/-0.015) for {'C': 1000.0, 'gamma': 0.01, 'kernel': 'rbf'}\n",
            "0.956 (+/-0.039) for {'C': 1000.0, 'gamma': 0.1, 'kernel': 'rbf'}\n",
            "0.615 (+/-0.188) for {'C': 1000.0, 'gamma': 0.5, 'kernel': 'rbf'}\n",
            "0.979 (+/-0.032) for {'C': 5000.0, 'gamma': 0.0001, 'kernel': 'rbf'}\n",
            "0.976 (+/-0.025) for {'C': 5000.0, 'gamma': 0.0005, 'kernel': 'rbf'}\n",
            "0.976 (+/-0.025) for {'C': 5000.0, 'gamma': 0.001, 'kernel': 'rbf'}\n",
            "0.979 (+/-0.032) for {'C': 5000.0, 'gamma': 0.005, 'kernel': 'rbf'}\n",
            "0.985 (+/-0.015) for {'C': 5000.0, 'gamma': 0.01, 'kernel': 'rbf'}\n",
            "0.956 (+/-0.039) for {'C': 5000.0, 'gamma': 0.1, 'kernel': 'rbf'}\n",
            "0.615 (+/-0.188) for {'C': 5000.0, 'gamma': 0.5, 'kernel': 'rbf'}\n",
            "0.979 (+/-0.032) for {'C': 10000.0, 'gamma': 0.0001, 'kernel': 'rbf'}\n",
            "0.976 (+/-0.025) for {'C': 10000.0, 'gamma': 0.0005, 'kernel': 'rbf'}\n",
            "0.976 (+/-0.025) for {'C': 10000.0, 'gamma': 0.001, 'kernel': 'rbf'}\n",
            "0.979 (+/-0.032) for {'C': 10000.0, 'gamma': 0.005, 'kernel': 'rbf'}\n",
            "0.985 (+/-0.015) for {'C': 10000.0, 'gamma': 0.01, 'kernel': 'rbf'}\n",
            "0.956 (+/-0.039) for {'C': 10000.0, 'gamma': 0.1, 'kernel': 'rbf'}\n",
            "0.615 (+/-0.188) for {'C': 10000.0, 'gamma': 0.5, 'kernel': 'rbf'}\n",
            "0.979 (+/-0.032) for {'C': 50000.0, 'gamma': 0.0001, 'kernel': 'rbf'}\n",
            "0.976 (+/-0.025) for {'C': 50000.0, 'gamma': 0.0005, 'kernel': 'rbf'}\n",
            "0.976 (+/-0.025) for {'C': 50000.0, 'gamma': 0.001, 'kernel': 'rbf'}\n",
            "0.979 (+/-0.032) for {'C': 50000.0, 'gamma': 0.005, 'kernel': 'rbf'}\n",
            "0.985 (+/-0.015) for {'C': 50000.0, 'gamma': 0.01, 'kernel': 'rbf'}\n",
            "0.956 (+/-0.039) for {'C': 50000.0, 'gamma': 0.1, 'kernel': 'rbf'}\n",
            "0.615 (+/-0.188) for {'C': 50000.0, 'gamma': 0.5, 'kernel': 'rbf'}\n",
            "0.979 (+/-0.032) for {'C': 100000.0, 'gamma': 0.0001, 'kernel': 'rbf'}\n",
            "0.976 (+/-0.025) for {'C': 100000.0, 'gamma': 0.0005, 'kernel': 'rbf'}\n",
            "0.976 (+/-0.025) for {'C': 100000.0, 'gamma': 0.001, 'kernel': 'rbf'}\n",
            "0.979 (+/-0.032) for {'C': 100000.0, 'gamma': 0.005, 'kernel': 'rbf'}\n",
            "0.985 (+/-0.015) for {'C': 100000.0, 'gamma': 0.01, 'kernel': 'rbf'}\n",
            "0.956 (+/-0.039) for {'C': 100000.0, 'gamma': 0.1, 'kernel': 'rbf'}\n",
            "0.615 (+/-0.188) for {'C': 100000.0, 'gamma': 0.5, 'kernel': 'rbf'}\n",
            "0.979 (+/-0.032) for {'C': 1000000.0, 'gamma': 0.0001, 'kernel': 'rbf'}\n",
            "0.976 (+/-0.025) for {'C': 1000000.0, 'gamma': 0.0005, 'kernel': 'rbf'}\n",
            "0.976 (+/-0.025) for {'C': 1000000.0, 'gamma': 0.001, 'kernel': 'rbf'}\n",
            "0.979 (+/-0.032) for {'C': 1000000.0, 'gamma': 0.005, 'kernel': 'rbf'}\n",
            "0.985 (+/-0.015) for {'C': 1000000.0, 'gamma': 0.01, 'kernel': 'rbf'}\n",
            "0.956 (+/-0.039) for {'C': 1000000.0, 'gamma': 0.1, 'kernel': 'rbf'}\n",
            "0.615 (+/-0.188) for {'C': 1000000.0, 'gamma': 0.5, 'kernel': 'rbf'}\n",
            "\n",
            "Detailed classification report:\n",
            "\n",
            "The model is trained on the full development set.\n",
            "The scores are computed on the full evaluation set.\n",
            "\n",
            "              precision    recall  f1-score   support\n",
            "\n",
            "           1       1.00      1.00      1.00        24\n",
            "           0       1.00      1.00      1.00        21\n",
            "\n",
            "   micro avg       1.00      1.00      1.00        45\n",
            "   macro avg       1.00      1.00      1.00        45\n",
            "weighted avg       1.00      1.00      1.00        45\n",
            "\n",
            "\n",
            "# Tuning hyper-parameters for recall\n",
            "\n",
            "Best parameters set found on development set:\n",
            "\n",
            "{'C': 1000.0, 'gamma': 0.01, 'kernel': 'rbf'}\n",
            "\n",
            "Grid scores on development set:\n",
            "\n",
            "0.965 (+/-0.052) for {'C': 1000.0, 'gamma': 0.0001, 'kernel': 'rbf'}\n",
            "0.969 (+/-0.040) for {'C': 1000.0, 'gamma': 0.0005, 'kernel': 'rbf'}\n",
            "0.969 (+/-0.040) for {'C': 1000.0, 'gamma': 0.001, 'kernel': 'rbf'}\n",
            "0.973 (+/-0.048) for {'C': 1000.0, 'gamma': 0.005, 'kernel': 'rbf'}\n",
            "0.983 (+/-0.018) for {'C': 1000.0, 'gamma': 0.01, 'kernel': 'rbf'}\n",
            "0.951 (+/-0.045) for {'C': 1000.0, 'gamma': 0.1, 'kernel': 'rbf'}\n",
            "0.608 (+/-0.099) for {'C': 1000.0, 'gamma': 0.5, 'kernel': 'rbf'}\n",
            "0.973 (+/-0.048) for {'C': 5000.0, 'gamma': 0.0001, 'kernel': 'rbf'}\n",
            "0.969 (+/-0.040) for {'C': 5000.0, 'gamma': 0.0005, 'kernel': 'rbf'}\n",
            "0.969 (+/-0.040) for {'C': 5000.0, 'gamma': 0.001, 'kernel': 'rbf'}\n",
            "0.973 (+/-0.048) for {'C': 5000.0, 'gamma': 0.005, 'kernel': 'rbf'}\n",
            "0.983 (+/-0.018) for {'C': 5000.0, 'gamma': 0.01, 'kernel': 'rbf'}\n",
            "0.951 (+/-0.045) for {'C': 5000.0, 'gamma': 0.1, 'kernel': 'rbf'}\n",
            "0.608 (+/-0.099) for {'C': 5000.0, 'gamma': 0.5, 'kernel': 'rbf'}\n",
            "0.973 (+/-0.048) for {'C': 10000.0, 'gamma': 0.0001, 'kernel': 'rbf'}\n",
            "0.969 (+/-0.040) for {'C': 10000.0, 'gamma': 0.0005, 'kernel': 'rbf'}\n",
            "0.969 (+/-0.040) for {'C': 10000.0, 'gamma': 0.001, 'kernel': 'rbf'}\n",
            "0.973 (+/-0.048) for {'C': 10000.0, 'gamma': 0.005, 'kernel': 'rbf'}\n",
            "0.983 (+/-0.018) for {'C': 10000.0, 'gamma': 0.01, 'kernel': 'rbf'}\n",
            "0.951 (+/-0.045) for {'C': 10000.0, 'gamma': 0.1, 'kernel': 'rbf'}\n",
            "0.608 (+/-0.099) for {'C': 10000.0, 'gamma': 0.5, 'kernel': 'rbf'}\n",
            "0.973 (+/-0.048) for {'C': 50000.0, 'gamma': 0.0001, 'kernel': 'rbf'}\n",
            "0.969 (+/-0.040) for {'C': 50000.0, 'gamma': 0.0005, 'kernel': 'rbf'}\n",
            "0.969 (+/-0.040) for {'C': 50000.0, 'gamma': 0.001, 'kernel': 'rbf'}\n",
            "0.973 (+/-0.048) for {'C': 50000.0, 'gamma': 0.005, 'kernel': 'rbf'}\n",
            "0.983 (+/-0.018) for {'C': 50000.0, 'gamma': 0.01, 'kernel': 'rbf'}\n",
            "0.951 (+/-0.045) for {'C': 50000.0, 'gamma': 0.1, 'kernel': 'rbf'}\n",
            "0.608 (+/-0.099) for {'C': 50000.0, 'gamma': 0.5, 'kernel': 'rbf'}\n",
            "0.973 (+/-0.048) for {'C': 100000.0, 'gamma': 0.0001, 'kernel': 'rbf'}\n",
            "0.969 (+/-0.040) for {'C': 100000.0, 'gamma': 0.0005, 'kernel': 'rbf'}\n",
            "0.969 (+/-0.040) for {'C': 100000.0, 'gamma': 0.001, 'kernel': 'rbf'}\n",
            "0.973 (+/-0.048) for {'C': 100000.0, 'gamma': 0.005, 'kernel': 'rbf'}\n",
            "0.983 (+/-0.018) for {'C': 100000.0, 'gamma': 0.01, 'kernel': 'rbf'}\n",
            "0.951 (+/-0.045) for {'C': 100000.0, 'gamma': 0.1, 'kernel': 'rbf'}\n",
            "0.608 (+/-0.099) for {'C': 100000.0, 'gamma': 0.5, 'kernel': 'rbf'}\n",
            "0.973 (+/-0.048) for {'C': 1000000.0, 'gamma': 0.0001, 'kernel': 'rbf'}\n",
            "0.969 (+/-0.040) for {'C': 1000000.0, 'gamma': 0.0005, 'kernel': 'rbf'}\n",
            "0.969 (+/-0.040) for {'C': 1000000.0, 'gamma': 0.001, 'kernel': 'rbf'}\n",
            "0.973 (+/-0.048) for {'C': 1000000.0, 'gamma': 0.005, 'kernel': 'rbf'}\n",
            "0.983 (+/-0.018) for {'C': 1000000.0, 'gamma': 0.01, 'kernel': 'rbf'}\n",
            "0.951 (+/-0.045) for {'C': 1000000.0, 'gamma': 0.1, 'kernel': 'rbf'}\n",
            "0.608 (+/-0.099) for {'C': 1000000.0, 'gamma': 0.5, 'kernel': 'rbf'}\n",
            "\n",
            "Detailed classification report:\n",
            "\n",
            "The model is trained on the full development set.\n",
            "The scores are computed on the full evaluation set.\n",
            "\n",
            "              precision    recall  f1-score   support\n",
            "\n",
            "           1       1.00      1.00      1.00        24\n",
            "           0       1.00      1.00      1.00        21\n",
            "\n",
            "   micro avg       1.00      1.00      1.00        45\n",
            "   macro avg       1.00      1.00      1.00        45\n",
            "weighted avg       1.00      1.00      1.00        45\n",
            "\n",
            "\n"
          ]
        }
      ]
    },
    {
      "cell_type": "markdown",
      "metadata": {
        "id": "Bokj0OcrZFug"
      },
      "source": [
        "**Nous nous sommes interressés ici à deux critère de selection :  la precision et le recall**"
      ]
    },
    {
      "cell_type": "markdown",
      "metadata": {
        "id": "I-da4fGAZFuh"
      },
      "source": [
        "**<ins>Question 14</ins>:** Dans le cas d'un jeu de données de grande taille, comment se passe ce choix des hyper-paramètres ?"
      ]
    },
    {
      "cell_type": "markdown",
      "metadata": {
        "id": "QzJOx0X6ZFuh"
      },
      "source": [
        "Dans le cas d'un grand nombre de données, il suffit d'utiliser la méthode Hold out.Pas besoin de cros validation. On divise notre jeu de données en deux ensembles. un d'apprentissage et un autre de test. et on utidie la variation des parametres, notament à travers les erreurs de prédiction et d'apprentissage.  \n"
      ]
    },
    {
      "cell_type": "markdown",
      "metadata": {
        "id": "myxI3uWIZFuh"
      },
      "source": [
        "**<ins>Question 15</ins>:** Évaluer les résultats et donner la valeur des paramètres optimaux pour chaque classifieur."
      ]
    },
    {
      "cell_type": "markdown",
      "metadata": {
        "id": "2SdtPp8gZFuh"
      },
      "source": [
        "_Your commented code below_"
      ]
    },
    {
      "cell_type": "code",
      "metadata": {
        "id": "rthsnlIvv6Bu"
      },
      "source": [
        ""
      ],
      "execution_count": 15,
      "outputs": []
    },
    {
      "cell_type": "markdown",
      "metadata": {
        "id": "XXEeVDYqZFuh"
      },
      "source": [
        "**Comme vous l'avez constaté, les codes ci dessous nous donnes déja les paramètres optimaux. En prenant comme critère de sélection la précision, on a** \n",
        "- Pour la Regression Logistique : {'C': 10, 'penalty': 'l2'}\n",
        "- Pour le réseau de neurone : {'activation': 'tanh', 'alpha': 0.1, 'hidden_layer_sizes': (100, 100)}\n",
        "- Pour la Random Forest : {'max_depth': 20, 'min_samples_leaf': 1, 'n_estimators': 10}\n",
        "- Pour la SVM : {'C': 1000.0, 'gamma': 0.01, 'kernel': 'rbf'}\n"
      ]
    },
    {
      "cell_type": "markdown",
      "metadata": {
        "id": "sZulp5JtZFui"
      },
      "source": [
        "**<ins>Question 16</ins>:** Apprendre le modèle final pour chaque classifieur avec les paramètres optimaux et évaluer correctement leurs performances.\n"
      ]
    },
    {
      "cell_type": "markdown",
      "metadata": {
        "id": "mVghfroJZFui"
      },
      "source": [
        "_Your commented code below_"
      ]
    },
    {
      "cell_type": "code",
      "metadata": {
        "id": "Cfw4oaBuZFui",
        "colab": {
          "base_uri": "https://localhost:8080/"
        },
        "outputId": "2c33f721-a83b-4cbb-cf85-8292f96687f6"
      },
      "source": [
        "#Regression logistique\n",
        "print(\"\\n\\n------------------ case of LOGISTIC REGRESION ------------------\")\n",
        "clf_Regression = LogisticRegression(penalty='l2',C=10)\n",
        "prediction_Regression = train_predict_model(clf_Regression, X_train, labelIndices_train, X_test, labelIndices_test )\n",
        "display_model_performance_metrics(labelIndices_test,prediction_Regression)\n",
        "#Réseau de neurone\n",
        "print(\"\\n\\n------------------- case of NEURAL NETWORK -----------------------\")\n",
        "clf_NN = MLPClassifier(hidden_layer_sizes=(100,100),activation='tanh',alpha=0.1)\n",
        "prediction_NN = train_predict_model(clf_NN, X_train, labelIndices_train, X_test, labelIndices_test ) #X_train, label_ohe_train, X_test, label_ohe_test )\n",
        "display_model_performance_metrics(labelIndices_test,prediction_NN)\n",
        "#Random Forest\n",
        "print(\"\\n\\n------------------- case of RADOMFOREST -------------------------\")\n",
        "clf_RandomForest = RandomForestClassifier(max_depth=20,min_samples_leaf=1,n_estimators=10)\n",
        "prediction_RandomForest = train_predict_model(clf_RandomForest,X_train, labelIndices_train, X_test, labelIndices_test )# X_train, label_names_train, X_test, label_names_test )\n",
        "display_model_performance_metrics(labelIndices_test,prediction_RandomForest)\n",
        "#SVM\n",
        "print(\"\\n\\n---------------------- case of SVM ---------------------------\")\n",
        "clf_SVC = svm.SVC(C=1000.0,gamma=0.01,kernel='rbf')\n",
        "prediction_SVM = train_predict_model(clf_SVC, X_train, labelIndices_train, X_test, labelIndices_test )# X_train, label_names_train, X_test, label_names_test )\n",
        "display_model_performance_metrics(labelIndices_test,prediction_SVM)\n"
      ],
      "execution_count": 16,
      "outputs": [
        {
          "output_type": "stream",
          "name": "stdout",
          "text": [
            "\n",
            "\n",
            "------------------ case of LOGISTIC REGRESION ------------------\n",
            "Model Performance metrics:\n",
            "------------------------------\n",
            "Accuracy: 0.9916\n",
            "Precision: 0.9921\n",
            "Recall: 0.9916\n",
            "F1 Score: 0.9916\n",
            "\n",
            "Model Classification report:\n",
            "------------------------------\n",
            "              precision    recall  f1-score   support\n",
            "\n",
            "           1       1.00      0.96      0.98        24\n",
            "           0       1.00      1.00      1.00        21\n",
            "\n",
            "   micro avg       1.00      0.98      0.99        45\n",
            "   macro avg       1.00      0.98      0.99        45\n",
            "weighted avg       1.00      0.98      0.99        45\n",
            "\n",
            "\n",
            "Prediction Confusion Matrix:\n",
            "------------------------------\n",
            "          Predicted:    \n",
            "                   1   0\n",
            "Actual: 1         23   0\n",
            "        0          0  21\n",
            "\n",
            "\n",
            "------------------- case of NEURAL NETWORK -----------------------\n",
            "Model Performance metrics:\n",
            "------------------------------\n",
            "Accuracy: 0.9916\n",
            "Precision: 0.9921\n",
            "Recall: 0.9916\n",
            "F1 Score: 0.9916\n",
            "\n",
            "Model Classification report:\n",
            "------------------------------\n",
            "              precision    recall  f1-score   support\n",
            "\n",
            "           1       1.00      0.96      0.98        24\n",
            "           0       1.00      1.00      1.00        21\n",
            "\n",
            "   micro avg       1.00      0.98      0.99        45\n",
            "   macro avg       1.00      0.98      0.99        45\n",
            "weighted avg       1.00      0.98      0.99        45\n",
            "\n",
            "\n",
            "Prediction Confusion Matrix:\n",
            "------------------------------\n",
            "          Predicted:    \n",
            "                   1   0\n",
            "Actual: 1         23   0\n",
            "        0          0  21\n",
            "\n",
            "\n",
            "------------------- case of RADOMFOREST -------------------------\n",
            "Model Performance metrics:\n",
            "------------------------------\n",
            "Accuracy: 0.958\n",
            "Precision: 0.9588\n",
            "Recall: 0.958\n",
            "F1 Score: 0.958\n",
            "\n",
            "Model Classification report:\n",
            "------------------------------\n",
            "              precision    recall  f1-score   support\n",
            "\n",
            "           1       0.96      0.92      0.94        24\n",
            "           0       1.00      0.95      0.98        21\n",
            "\n",
            "   micro avg       0.98      0.93      0.95        45\n",
            "   macro avg       0.98      0.93      0.96        45\n",
            "weighted avg       0.98      0.93      0.95        45\n",
            "\n",
            "\n",
            "Prediction Confusion Matrix:\n",
            "------------------------------\n",
            "          Predicted:    \n",
            "                   1   0\n",
            "Actual: 1         22   0\n",
            "        0          1  20\n",
            "\n",
            "\n",
            "---------------------- case of SVM ---------------------------\n",
            "Model Performance metrics:\n",
            "------------------------------\n",
            "Accuracy: 1.0\n",
            "Precision: 1.0\n",
            "Recall: 1.0\n",
            "F1 Score: 1.0\n",
            "\n",
            "Model Classification report:\n",
            "------------------------------\n",
            "              precision    recall  f1-score   support\n",
            "\n",
            "           1       1.00      1.00      1.00        24\n",
            "           0       1.00      1.00      1.00        21\n",
            "\n",
            "   micro avg       1.00      1.00      1.00        45\n",
            "   macro avg       1.00      1.00      1.00        45\n",
            "weighted avg       1.00      1.00      1.00        45\n",
            "\n",
            "\n",
            "Prediction Confusion Matrix:\n",
            "------------------------------\n",
            "          Predicted:    \n",
            "                   1   0\n",
            "Actual: 1         24   0\n",
            "        0          0  21\n"
          ]
        }
      ]
    },
    {
      "cell_type": "markdown",
      "metadata": {
        "id": "c72GE3-VZFui"
      },
      "source": [
        "**On remarque que les performmances sont meilleurs comparées aux classificateurs précédents. Ceci est du fait de l'utilisation des hyper paramètres optimaux**\n"
      ]
    },
    {
      "cell_type": "markdown",
      "metadata": {
        "id": "ThX8d5A2ZFuj"
      },
      "source": [
        "# 5. Analyse finale"
      ]
    },
    {
      "cell_type": "markdown",
      "metadata": {
        "id": "1NQ6Kt1VZFuj"
      },
      "source": [
        "**<ins>Question 16</ins>:** Faites une synthèse des résultats obtenus. Dresser en particulier des conclusions en fonction des descripteurs utilisés (si vous avez fait la partie optionnelle 7), des algorithmes utilisés (et leurs caractéristiques) et des prétraitements effectués."
      ]
    },
    {
      "cell_type": "markdown",
      "metadata": {
        "id": "dkBVftRrZFuj"
      },
      "source": [
        "**On constate que les descripteurs 'raw' sont largement moins performant que ceux de 'scat'. On peut donc dire que c'est la qualité des descripteur qui importe le plus et nom le nombre de ceux ci.** "
      ]
    },
    {
      "cell_type": "code",
      "metadata": {
        "id": "Mpkb9hO-ZFuj"
      },
      "source": [
        ""
      ],
      "execution_count": 16,
      "outputs": []
    },
    {
      "cell_type": "markdown",
      "metadata": {
        "id": "AFV4kOs3ZFuk"
      },
      "source": [
        "# 6. Diagramme fonctionnel"
      ]
    },
    {
      "cell_type": "markdown",
      "metadata": {
        "id": "vBue47KrZFuk"
      },
      "source": [
        "_Double cliquez ici pour écrire votre réponse ici!_\n"
      ]
    },
    {
      "cell_type": "markdown",
      "metadata": {
        "id": "_Xw7bbYtv6BX"
      },
      "source": [
        "**<ins>Question 17</ins>:** Réalisez un diagramme fonctionnel décrivant le flux des données tout au long de l'approche supervisée. Ce diagramme devra faire apparaître au minimum: les trois ensembles d'images, les descripteurs, les différents algorithmes d'apprentissage, l'évaluation (mettre une image dans le répertoire courant et dans la cellule ci-dessous remplacer par le nom du fichier)"
      ]
    },
    {
      "cell_type": "markdown",
      "metadata": {
        "id": "KDclLV6xv6BX"
      },
      "source": [
        "_Your image here_ <img src=\"fichierDiagramme.png\" />"
      ]
    },
    {
      "cell_type": "markdown",
      "metadata": {
        "id": "CUjpEmEhZFul"
      },
      "source": [
        "# 7. (Optionnel) Approche supervisée sur données brutes"
      ]
    },
    {
      "cell_type": "markdown",
      "metadata": {
        "id": "rVBKmzddZFul"
      },
      "source": [
        "**<ins>Question 15</ins>:** Réalisez l'apprentissage du classifieur random forest en utilisant les fonctions du package scikit-learn sur les données brutes. Pensez vous qu'un autre classifieur donnerait des meilleurs résultats? Analysez les résultats (décrivez et proposez une interprétation de ce qu'il se passe)"
      ]
    },
    {
      "cell_type": "markdown",
      "metadata": {
        "id": "IuuKmz9NZFul"
      },
      "source": [
        "_Your commented code below_"
      ]
    },
    {
      "cell_type": "code",
      "metadata": {
        "id": "aC9dtaFYZFul"
      },
      "source": [
        ""
      ],
      "execution_count": 16,
      "outputs": []
    },
    {
      "cell_type": "markdown",
      "metadata": {
        "id": "DcPGQonQZFul"
      },
      "source": [
        "_Double cliquez ici pour écrire votre réponse ici!_\n"
      ]
    }
  ]
}